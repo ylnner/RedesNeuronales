{
 "cells": [
  {
   "cell_type": "code",
   "execution_count": 2,
   "metadata": {},
   "outputs": [
    {
     "name": "stderr",
     "output_type": "stream",
     "text": [
      "Using TensorFlow backend.\n"
     ]
    }
   ],
   "source": [
    "from numpy import loadtxt\n",
    "from keras.models import load_model\n",
    "import numpy as np\n",
    "import cv2\n",
    "import os\n",
    "import glob"
   ]
  },
  {
   "cell_type": "code",
   "execution_count": 35,
   "metadata": {},
   "outputs": [],
   "source": [
    "def processCategory(category):\n",
    "    y_aux = []\n",
    "    if category == 'airplane':\n",
    "        y_aux = [1, 0, 0, 0, 0, 0, 0, 0, 0, 0]\n",
    "    elif category == 'automobile':\n",
    "        y_aux = [0, 1, 0, 0, 0, 0, 0, 0, 0, 0]\n",
    "    elif category == 'bird':\n",
    "        y_aux = [0, 0, 1, 0, 0, 0, 0, 0, 0, 0]\n",
    "    elif category == 'cat':\n",
    "        y_aux = [0, 0, 0, 1, 0, 0, 0, 0, 0, 0]\n",
    "    elif category == 'deer':\n",
    "        y_aux = [0, 0, 0, 0, 1, 0, 0, 0, 0, 0]\n",
    "    elif category == 'dog':\n",
    "        y_aux = [0, 0, 0, 0, 0, 1, 0, 0, 0, 0]\n",
    "    elif category == 'frog':\n",
    "        y_aux = [0, 0, 0, 0, 0, 0, 1, 0, 0, 0]\n",
    "    elif category == 'horse':\n",
    "        y_aux = [0, 0, 0, 0, 0, 0, 0, 1, 0, 0]\n",
    "    elif category == 'ship':\n",
    "        y_aux = [0, 0, 0, 0, 0, 0, 0, 0, 1, 0]\n",
    "    elif category == 'truck':\n",
    "        y_aux = [0, 0, 0, 0, 0, 0, 0, 0, 0, 1]\n",
    "    return y_aux\n",
    "\n",
    "def desprocessCategory(idx_max):\n",
    "    output_label = ''\n",
    "    if idx_max == 0:\n",
    "        output_label = 'airplane'\n",
    "    elif idx_max == 1:\n",
    "        output_label = 'automobile'\n",
    "    elif idx_max == 2:\n",
    "        output_label = 'bird'\n",
    "    elif idx_max == 3:\n",
    "        output_label = 'cat'\n",
    "    elif idx_max == 4:\n",
    "        output_label = 'deer'\n",
    "    elif idx_max == 5:\n",
    "        output_label = 'dog'\n",
    "    elif idx_max == 6:\n",
    "        output_label = 'frog'\n",
    "    elif idx_max == 7:\n",
    "        output_label = 'horse'\n",
    "    elif idx_max == 8:\n",
    "        output_label = 'ship'\n",
    "    elif idx_max == 9:\n",
    "        output_label = 'truck'\n",
    "    return output_label.upper()"
   ]
  },
  {
   "cell_type": "code",
   "execution_count": 36,
   "metadata": {},
   "outputs": [
    {
     "name": "stdout",
     "output_type": "stream",
     "text": [
      "For the item of kind AIRPLANE is predicted: AIRPLANE\n",
      "For the item of kind AIRPLANE is predicted: AIRPLANE\n",
      "For the item of kind AUTOMOBILE is predicted: AUTOMOBILE\n",
      "For the item of kind AUTOMOBILE is predicted: AUTOMOBILE\n",
      "For the item of kind BIRD is predicted: BIRD\n",
      "For the item of kind BIRD is predicted: BIRD\n",
      "For the item of kind CAT is predicted: AIRPLANE\n",
      "For the item of kind CAT is predicted: AIRPLANE\n",
      "For the item of kind DEER is predicted: DEER\n",
      "For the item of kind DEER is predicted: AIRPLANE\n",
      "For the item of kind DOG is predicted: AIRPLANE\n",
      "For the item of kind DOG is predicted: DOG\n",
      "For the item of kind FROG is predicted: AUTOMOBILE\n",
      "For the item of kind FROG is predicted: TRUCK\n",
      "For the item of kind HORSE is predicted: AIRPLANE\n",
      "For the item of kind HORSE is predicted: AIRPLANE\n",
      "For the item of kind SHIP is predicted: SHIP\n",
      "For the item of kind SHIP is predicted: AUTOMOBILE\n",
      "For the item of kind TRUCK is predicted: TRUCK\n",
      "For the item of kind TRUCK is predicted: TRUCK\n",
      "Accuracy :  7.253143310546875\n",
      "Loss:  0.550000011920929\n"
     ]
    }
   ],
   "source": [
    "categories  = ['airplane', 'automobile', 'bird', 'cat', 'deer', 'dog', 'frog', 'horse', 'ship', 'truck']\n",
    "data        = []\n",
    "y           = []\n",
    "img_dir     = 'images'\n",
    "real_target = []\n",
    "for category in categories:\n",
    "    y_aux       = processCategory(category)    \n",
    "    img_dir_aux = img_dir + '/'+ category\n",
    "    data_path   = os.path.join(img_dir_aux,'*g')\n",
    "    files       = glob.glob(data_path)\n",
    "    for f1 in files:\n",
    "        img        = cv2.imread(f1)\n",
    "        img_resize = cv2.resize(img, (32, 32), interpolation = cv2.INTER_AREA)\n",
    "        data.append(img_resize)        \n",
    "        y.append(y_aux)\n",
    "        real_target.append(category)\n",
    "        \n",
    "data = np.array(data)\n",
    "y    = np.array(y)\n",
    "\n",
    "\n",
    "# Load Model\n",
    "name_model   = 'with_third_change.h5'\n",
    "model        = load_model(name_model)\n",
    "score        = model.evaluate(data, y, verbose=0)\n",
    "output       = model.predict(data)\n",
    "output_label = []\n",
    "\n",
    "for i in range(len(output)):\n",
    "    idx_max = np.argmax(output[i])\n",
    "    print('For the item of kind ' + real_target[i].upper() + ' is predicted: ' + desprocessCategory(idx_max))\n",
    "    \n",
    "print('Accuracy : ', score[0])\n",
    "print('Loss: ', score[1])"
   ]
  }
 ],
 "metadata": {
  "kernelspec": {
   "display_name": "Python 3",
   "language": "python",
   "name": "python3"
  },
  "language_info": {
   "codemirror_mode": {
    "name": "ipython",
    "version": 3
   },
   "file_extension": ".py",
   "mimetype": "text/x-python",
   "name": "python",
   "nbconvert_exporter": "python",
   "pygments_lexer": "ipython3",
   "version": "3.7.4"
  }
 },
 "nbformat": 4,
 "nbformat_minor": 2
}

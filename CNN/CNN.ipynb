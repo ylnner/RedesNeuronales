{
 "cells": [
  {
   "cell_type": "code",
   "execution_count": 5,
   "metadata": {},
   "outputs": [],
   "source": [
    "from __future__ import print_function\n",
    "from tensorflow.examples.tutorials.mnist import input_data\n",
    "import tensorflow as tf"
   ]
  },
  {
   "cell_type": "code",
   "execution_count": 6,
   "metadata": {},
   "outputs": [
    {
     "name": "stdout",
     "output_type": "stream",
     "text": [
      "Extracting MNIST_data/train-images-idx3-ubyte.gz\n",
      "Extracting MNIST_data/train-labels-idx1-ubyte.gz\n",
      "Extracting MNIST_data/t10k-images-idx3-ubyte.gz\n",
      "Extracting MNIST_data/t10k-labels-idx1-ubyte.gz\n"
     ]
    }
   ],
   "source": [
    "mnist = input_data.read_data_sets(\"MNIST_data/\", one_hot=True)"
   ]
  },
  {
   "cell_type": "code",
   "execution_count": 7,
   "metadata": {},
   "outputs": [],
   "source": [
    "def weight_variable(shape):\n",
    "  initial = tf.truncated_normal(shape, stddev=0.1)\n",
    "  return tf.Variable(initial)\n",
    "\n",
    "def bias_variable(shape):\n",
    "  initial = tf.constant(0.1, shape=shape)\n",
    "  return tf.Variable(initial)\n",
    "\n",
    "def conv2d(x, W):\n",
    "    return tf.nn.conv2d(x, W, strides=[1, 1, 1, 1], padding='SAME')\n",
    "\n",
    "def max_pool_2x2(x):\n",
    "    return tf.nn.max_pool(x, ksize=[1, 2, 2, 1],strides=[1, 2, 2, 1], padding='SAME')"
   ]
  },
  {
   "cell_type": "code",
   "execution_count": 10,
   "metadata": {},
   "outputs": [],
   "source": [
    "number_maps_1 = 25\n",
    "number_maps_2 = 50\n",
    "size_filter_1 = 3\n",
    "size_filter_2 = 4"
   ]
  },
  {
   "cell_type": "code",
   "execution_count": 21,
   "metadata": {},
   "outputs": [
    {
     "name": "stdout",
     "output_type": "stream",
     "text": [
      "h_pool2.shape\n",
      "(?, 7, 7, 50)\n",
      "h_pool2_flat.shape\n",
      "(?, 2450)\n",
      "h_fc1_drop.shape\n",
      "(?, 1024)\n",
      "0 0.0893\n",
      "100 0.0873\n",
      "200 0.0859\n",
      "300 0.0859\n",
      "400 0.0847\n",
      "500 0.0827\n",
      "600 0.0817\n",
      "700 0.076\n",
      "800 0.0734\n",
      "900 0.0721\n",
      "1000 0.0725\n"
     ]
    }
   ],
   "source": [
    "# Input layer\n",
    "x  = tf.placeholder(tf.float32, [None, 784], name='x')\n",
    "y_ = tf.placeholder(tf.float32, [None, 10],  name='y_')\n",
    "x_image = tf.reshape(x, [-1, 28, 28, 1])\n",
    "\n",
    "# Convolutional layer 1\n",
    "W_conv1 = weight_variable([size_filter_1, size_filter_1, 1, number_maps_1])\n",
    "b_conv1 = bias_variable([number_maps_1])\n",
    "\n",
    "h_conv1 = tf.nn.relu(conv2d(x_image, W_conv1) + b_conv1)\n",
    "h_pool1 = max_pool_2x2(h_conv1)\n",
    "\n",
    "# Convolutional layer 2\n",
    "W_conv2 = weight_variable([size_filter_2, size_filter_2, number_maps_1, number_maps_2])\n",
    "b_conv2 = bias_variable([number_maps_2])\n",
    "\n",
    "h_conv2 = tf.nn.relu(conv2d(h_pool1, W_conv2) + b_conv2)\n",
    "h_pool2 = max_pool_2x2(h_conv2)\n",
    "\n",
    "print(\"h_pool2.shape\")\n",
    "print(h_pool2.shape)\n",
    "\n",
    "# Fully connected layer 1\n",
    "h_pool2_flat = tf.reshape(h_pool2, [-1, 7*7*number_maps_2])\n",
    "\n",
    "print(\"h_pool2_flat.shape\")\n",
    "print(h_pool2_flat.shape)\n",
    "\n",
    "# W_fc1 = weight_variable([7 * 7 * number_maps_2, 1024])\n",
    "# b_fc1 = bias_variable([1024])\n",
    "\n",
    "W_fc1 = weight_variable([7 * 7 * number_maps_2, 10])\n",
    "b_fc1 = bias_variable([10])\n",
    "\n",
    "# h_fc1 = tf.nn.relu(tf.matmul(h_pool2_flat, W_fc1) + b_fc1)\n",
    "y = tf.nn.softmax(tf.matmul(h_pool2_flat, W_fc1) + b_fc1, name = 'y')\n",
    "\n",
    "# Dropout\n",
    "keep_prob  = tf.placeholder(tf.float32)\n",
    "h_fc1_drop = tf.nn.dropout(h_fc1, keep_prob)\n",
    "\n",
    "# Fully connected layer 2 (Output layer)\n",
    "W_fc2 = weight_variable([1024, 10])\n",
    "b_fc2 = bias_variable([10])\n",
    "\n",
    "# y = tf.nn.softmax(tf.matmul(h_fc1_drop, W_fc2) + b_fc2, name='y')\n",
    "\n",
    "print(\"h_fc1_drop.shape\")\n",
    "print(h_fc1_drop.shape)\n",
    "# y = tf.nn.softmax(tf.matmul(h_pool2, W_fc2) + b_fc1, name='y')\n",
    "\n",
    "# Evaluation functions\n",
    "cross_entropy = tf.reduce_mean(-tf.reduce_sum(y_ * tf.log(y), reduction_indices=[1]))\n",
    "\n",
    "correct_prediction = tf.equal(tf.argmax(y, 1), tf.argmax(y_, 1))\n",
    "accuracy = tf.reduce_mean(tf.cast(correct_prediction, tf.float32), name='accuracy')\n",
    "\n",
    "# Training algorithm\n",
    "train_step = tf.train.AdamOptimizer(1e-4).minimize(cross_entropy)\n",
    "\n",
    "# Training steps\n",
    "with tf.Session() as sess:\n",
    "    sess.run(tf.initialize_all_variables())\n",
    "\n",
    "    max_steps = 1000\n",
    "    for step in range(max_steps):\n",
    "        batch_xs, batch_ys = mnist.train.next_batch(50)\n",
    "        if (step % 100) == 0:\n",
    "            print(step, sess.run(accuracy, feed_dict={x: mnist.test.images, y_: mnist.test.labels, keep_prob: 1.0}))\n",
    "            sess.run(train_step, feed_dict={x: batch_xs, y_: batch_ys, keep_prob: 0.5})\n",
    "    print(max_steps, sess.run(accuracy, feed_dict={x: mnist.test.images, y_: mnist.test.labels, keep_prob: 1.0}))"
   ]
  },
  {
   "cell_type": "code",
   "execution_count": null,
   "metadata": {},
   "outputs": [],
   "source": []
  },
  {
   "cell_type": "code",
   "execution_count": null,
   "metadata": {},
   "outputs": [],
   "source": []
  }
 ],
 "metadata": {
  "kernelspec": {
   "display_name": "Python 3",
   "language": "python",
   "name": "python3"
  },
  "language_info": {
   "codemirror_mode": {
    "name": "ipython",
    "version": 3
   },
   "file_extension": ".py",
   "mimetype": "text/x-python",
   "name": "python",
   "nbconvert_exporter": "python",
   "pygments_lexer": "ipython3",
   "version": "3.7.4"
  }
 },
 "nbformat": 4,
 "nbformat_minor": 2
}

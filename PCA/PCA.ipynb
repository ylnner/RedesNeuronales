{
 "cells": [
  {
   "cell_type": "code",
   "execution_count": 30,
   "metadata": {},
   "outputs": [],
   "source": [
    "import numpy as np\n",
    "import pandas as pd\n",
    "from sklearn.decomposition import PCA\n",
    "from sklearn.preprocessing import StandardScaler\n",
    "from sklearn.preprocessing import MinMaxScaler\n",
    "from sklearn.preprocessing import normalize"
   ]
  },
  {
   "cell_type": "code",
   "execution_count": 2,
   "metadata": {},
   "outputs": [],
   "source": [
    "df = pd.read_csv('iris.data',header=None)"
   ]
  },
  {
   "cell_type": "code",
   "execution_count": 3,
   "metadata": {},
   "outputs": [
    {
     "data": {
      "text/html": [
       "<div>\n",
       "<style scoped>\n",
       "    .dataframe tbody tr th:only-of-type {\n",
       "        vertical-align: middle;\n",
       "    }\n",
       "\n",
       "    .dataframe tbody tr th {\n",
       "        vertical-align: top;\n",
       "    }\n",
       "\n",
       "    .dataframe thead th {\n",
       "        text-align: right;\n",
       "    }\n",
       "</style>\n",
       "<table border=\"1\" class=\"dataframe\">\n",
       "  <thead>\n",
       "    <tr style=\"text-align: right;\">\n",
       "      <th></th>\n",
       "      <th>0</th>\n",
       "      <th>1</th>\n",
       "      <th>2</th>\n",
       "      <th>3</th>\n",
       "      <th>4</th>\n",
       "    </tr>\n",
       "  </thead>\n",
       "  <tbody>\n",
       "    <tr>\n",
       "      <td>0</td>\n",
       "      <td>5.1</td>\n",
       "      <td>3.5</td>\n",
       "      <td>1.4</td>\n",
       "      <td>0.2</td>\n",
       "      <td>Iris-setosa</td>\n",
       "    </tr>\n",
       "    <tr>\n",
       "      <td>1</td>\n",
       "      <td>4.9</td>\n",
       "      <td>3.0</td>\n",
       "      <td>1.4</td>\n",
       "      <td>0.2</td>\n",
       "      <td>Iris-setosa</td>\n",
       "    </tr>\n",
       "    <tr>\n",
       "      <td>2</td>\n",
       "      <td>4.7</td>\n",
       "      <td>3.2</td>\n",
       "      <td>1.3</td>\n",
       "      <td>0.2</td>\n",
       "      <td>Iris-setosa</td>\n",
       "    </tr>\n",
       "    <tr>\n",
       "      <td>3</td>\n",
       "      <td>4.6</td>\n",
       "      <td>3.1</td>\n",
       "      <td>1.5</td>\n",
       "      <td>0.2</td>\n",
       "      <td>Iris-setosa</td>\n",
       "    </tr>\n",
       "    <tr>\n",
       "      <td>4</td>\n",
       "      <td>5.0</td>\n",
       "      <td>3.6</td>\n",
       "      <td>1.4</td>\n",
       "      <td>0.2</td>\n",
       "      <td>Iris-setosa</td>\n",
       "    </tr>\n",
       "  </tbody>\n",
       "</table>\n",
       "</div>"
      ],
      "text/plain": [
       "     0    1    2    3            4\n",
       "0  5.1  3.5  1.4  0.2  Iris-setosa\n",
       "1  4.9  3.0  1.4  0.2  Iris-setosa\n",
       "2  4.7  3.2  1.3  0.2  Iris-setosa\n",
       "3  4.6  3.1  1.5  0.2  Iris-setosa\n",
       "4  5.0  3.6  1.4  0.2  Iris-setosa"
      ]
     },
     "execution_count": 3,
     "metadata": {},
     "output_type": "execute_result"
    }
   ],
   "source": [
    "df.head()"
   ]
  },
  {
   "cell_type": "code",
   "execution_count": 4,
   "metadata": {},
   "outputs": [
    {
     "data": {
      "text/html": [
       "<div>\n",
       "<style scoped>\n",
       "    .dataframe tbody tr th:only-of-type {\n",
       "        vertical-align: middle;\n",
       "    }\n",
       "\n",
       "    .dataframe tbody tr th {\n",
       "        vertical-align: top;\n",
       "    }\n",
       "\n",
       "    .dataframe thead th {\n",
       "        text-align: right;\n",
       "    }\n",
       "</style>\n",
       "<table border=\"1\" class=\"dataframe\">\n",
       "  <thead>\n",
       "    <tr style=\"text-align: right;\">\n",
       "      <th></th>\n",
       "      <th>0</th>\n",
       "      <th>1</th>\n",
       "      <th>2</th>\n",
       "      <th>3</th>\n",
       "    </tr>\n",
       "  </thead>\n",
       "  <tbody>\n",
       "    <tr>\n",
       "      <td>0</td>\n",
       "      <td>5.1</td>\n",
       "      <td>3.5</td>\n",
       "      <td>1.4</td>\n",
       "      <td>0.2</td>\n",
       "    </tr>\n",
       "    <tr>\n",
       "      <td>1</td>\n",
       "      <td>4.9</td>\n",
       "      <td>3.0</td>\n",
       "      <td>1.4</td>\n",
       "      <td>0.2</td>\n",
       "    </tr>\n",
       "    <tr>\n",
       "      <td>2</td>\n",
       "      <td>4.7</td>\n",
       "      <td>3.2</td>\n",
       "      <td>1.3</td>\n",
       "      <td>0.2</td>\n",
       "    </tr>\n",
       "    <tr>\n",
       "      <td>3</td>\n",
       "      <td>4.6</td>\n",
       "      <td>3.1</td>\n",
       "      <td>1.5</td>\n",
       "      <td>0.2</td>\n",
       "    </tr>\n",
       "    <tr>\n",
       "      <td>4</td>\n",
       "      <td>5.0</td>\n",
       "      <td>3.6</td>\n",
       "      <td>1.4</td>\n",
       "      <td>0.2</td>\n",
       "    </tr>\n",
       "  </tbody>\n",
       "</table>\n",
       "</div>"
      ],
      "text/plain": [
       "     0    1    2    3\n",
       "0  5.1  3.5  1.4  0.2\n",
       "1  4.9  3.0  1.4  0.2\n",
       "2  4.7  3.2  1.3  0.2\n",
       "3  4.6  3.1  1.5  0.2\n",
       "4  5.0  3.6  1.4  0.2"
      ]
     },
     "execution_count": 4,
     "metadata": {},
     "output_type": "execute_result"
    }
   ],
   "source": [
    "data = df.drop(df.columns[[4]], axis=1)\n",
    "target = df[4]\n",
    "data.head()\n"
   ]
  },
  {
   "cell_type": "code",
   "execution_count": 5,
   "metadata": {},
   "outputs": [],
   "source": [
    "# Standardizing the features\n",
    "data = StandardScaler().fit_transform(data)"
   ]
  },
  {
   "cell_type": "code",
   "execution_count": 11,
   "metadata": {},
   "outputs": [],
   "source": [
    "pca = PCA(n_components=3)"
   ]
  },
  {
   "cell_type": "code",
   "execution_count": 12,
   "metadata": {},
   "outputs": [
    {
     "data": {
      "text/plain": [
       "PCA(copy=True, iterated_power='auto', n_components=3, random_state=None,\n",
       "    svd_solver='auto', tol=0.0, whiten=False)"
      ]
     },
     "execution_count": 12,
     "metadata": {},
     "output_type": "execute_result"
    }
   ],
   "source": [
    "pca.fit(data) "
   ]
  },
  {
   "cell_type": "code",
   "execution_count": 13,
   "metadata": {},
   "outputs": [
    {
     "name": "stdout",
     "output_type": "stream",
     "text": [
      "[2.93035378 0.92740362 0.14834223]\n"
     ]
    }
   ],
   "source": [
    "print(pca.explained_variance_ )  "
   ]
  },
  {
   "cell_type": "code",
   "execution_count": 14,
   "metadata": {},
   "outputs": [
    {
     "name": "stdout",
     "output_type": "stream",
     "text": [
      "[[ 0.52237162 -0.26335492  0.58125401  0.56561105]\n",
      " [ 0.37231836  0.92555649  0.02109478  0.06541577]\n",
      " [-0.72101681  0.24203288  0.14089226  0.6338014 ]]\n"
     ]
    }
   ],
   "source": [
    "print(pca.components_)"
   ]
  },
  {
   "cell_type": "code",
   "execution_count": 15,
   "metadata": {},
   "outputs": [
    {
     "data": {
      "text/plain": [
       "4"
      ]
     },
     "execution_count": 15,
     "metadata": {},
     "output_type": "execute_result"
    }
   ],
   "source": [
    "n_targets = 3\n",
    "n_features = df.shape[1]-1\n",
    "n_features"
   ]
  },
  {
   "cell_type": "code",
   "execution_count": 16,
   "metadata": {},
   "outputs": [],
   "source": [
    "def multiplicationByColumn(u, y):\n",
    "    lista = []\n",
    "#     print(u.shape[1])\n",
    "    for i in range(u.shape[1]):\n",
    "#         print(u[:, i])\n",
    "#         print('u[:, i] * y: ', np.sum((u[:, i] * y)))\n",
    "        lista.append(np.sum(u[:, i] * y))\n",
    "    lista = np.matrix(lista).T\n",
    "#     print(lista)\n",
    "    return lista"
   ]
  },
  {
   "cell_type": "code",
   "execution_count": 17,
   "metadata": {},
   "outputs": [
    {
     "data": {
      "text/plain": [
       "matrix([[8],\n",
       "        [2]])"
      ]
     },
     "execution_count": 17,
     "metadata": {},
     "output_type": "execute_result"
    }
   ],
   "source": [
    "u = np.array([[2, 2], [3, 0]])\n",
    "y = np.array([1 ,2])\n",
    "# print(u.shape)\n",
    "multiplicationByColumn(u, y)"
   ]
  },
  {
   "cell_type": "code",
   "execution_count": 18,
   "metadata": {},
   "outputs": [],
   "source": [
    "# number_components\n",
    "# w = np.random.uniform(low = 0, high = 1, size = [number_components, n_features])\n",
    "# u = np.triu(np.random.uniform(low = 0, high = 1, size = [n_targets, n_targets]), 1)\n",
    "\n",
    "# print(w.shape)\n",
    "# print(u.shape)\n",
    "\n",
    "# idxs = np.arange(len(data))\n",
    "\n",
    "\n",
    "# np.random.shuffle(idxs)\n",
    "# # aux = target[idxs[0]]\n",
    "\n",
    "# if aux == 'Iris-setosa':\n",
    "#     y = [1, 0, 0]\n",
    "# elif aux == 'Iris-versicolor':\n",
    "#     y = [0, 1, 0]\n",
    "# elif aux == 'Iris-virginica':\n",
    "#     y = [0, 0, 1]\n",
    "# y = np.matrix(np.array(y)).T\n",
    "# # print(y)\n",
    "\n",
    "\n",
    "# init_learning_rate = 0.4\n",
    "# init_learning_side = 0.5\n",
    "# # alpha = 0.5\n",
    "\n",
    "# n_iterations =150\n",
    "# # print('-'*50)\n",
    "# # print(u)\n",
    "# # print(y)\n",
    "# # print(u*y)\n",
    "\n",
    "\n",
    "\n",
    "# print('-'*50)\n",
    "\n",
    "# for i in range(n_iterations):\n",
    "#     rnd = np.random.randint(0, 150)\n",
    "    \n",
    "#     aux = target[rnd]\n",
    "#     if aux == 'Iris-setosa':\n",
    "#         y = [1, 0, 0]\n",
    "#     elif aux == 'Iris-versicolor':\n",
    "#         y = [0, 1, 0]\n",
    "#     elif aux == 'Iris-virginica':\n",
    "#         y = [0, 0, 1]\n",
    "#     y = np.matrix(np.array(y)).T\n",
    "\n",
    "\n",
    "#     item = data[rnd]\n",
    "#     aux_item = np.matrix(item)\n",
    "#     termino_1 = ((w * aux_item.T))        \n",
    "# #     termino_2 = (((u * y)))\n",
    "#     termino_2 = multiplicationByColumn(u, y)\n",
    "# #     print(termino_2)\n",
    "\n",
    "#     y = termino_1 + termino_2    \n",
    "#     delta_w = init_learning_rate * (y * aux_item)\n",
    "#     w = w + delta_w\n",
    "\n",
    "#     scaler = MinMaxScaler()\n",
    "#     scaler.fit(w)\n",
    "#     w = scaler.transform(w)\n",
    "# #     print((y * y.T).shape)\n",
    "#     delta_u =  -1*(init_learning_side * (y * y.T))\n",
    "\n",
    "#     u = u + delta_u\n",
    "#     u = np.triu(u, 1) \n",
    "# #     print(u)\n",
    "        \n",
    "    \n",
    "    \n",
    "# print('w:',w)\n",
    "# print('u:',u)\n",
    "    \n",
    "    "
   ]
  },
  {
   "cell_type": "code",
   "execution_count": 289,
   "metadata": {},
   "outputs": [
    {
     "name": "stdout",
     "output_type": "stream",
     "text": [
      "(3, 4)\n",
      "(3, 3)\n",
      "[[ 0.51667381 -0.3079717   0.56061374  0.56913429]\n",
      " [ 0.57612096  0.77442212  0.17471544  0.19449817]\n",
      " [-0.39464325  0.58618126 -0.54048476 -0.45664478]]\n"
     ]
    }
   ],
   "source": [
    "number_components = 3\n",
    "w = np.random.uniform(low = 0, high = 1, size = [number_components, n_features])\n",
    "w = normalize(w, norm='l2')\n",
    "# u = np.tril(np.random.uniform(low = 0, high = 1, size = [number_components, number_components]), -1)\n",
    "u = np.triu(np.random.uniform(low = 0, high = 1, size = [number_components, number_components]), 1)\n",
    "\n",
    "\n",
    "print(w.shape)\n",
    "print(u.shape)\n",
    "init_learning_rate = 0.01\n",
    "init_learning_side = 0.01\n",
    "factor = 0.1\n",
    "n_iterations =350\n",
    "# number_components = 4\n",
    "momentum_w = np.zeros(w.shape)\n",
    "momentum_u = np.zeros(u.shape)\n",
    "momentum = 0.65\n",
    "limiar = 0.9\n",
    "\n",
    "for i in range(n_iterations):\n",
    "    rnd = np.random.randint(0, 150)\n",
    "    item = data[rnd]\n",
    "\n",
    "    YR = np.zeros(number_components)\n",
    "    for j in range(number_components):        \n",
    "        if j == 0:                      \n",
    "#             y1 = np.sum(w[:,0] * item)\n",
    "#             delta_w = (init_learning_rate * y1 * item)\n",
    "#             w[:,0] = w[:,0] + delta_w + (momentum * momentum_w[:,0])\n",
    "#             momentum_w[:,0] = delta_w                                \n",
    "#             w1 = w[:,0]\n",
    "            \n",
    "            y1 = np.sum(w[0,:] * item)\n",
    "            delta_w = (init_learning_rate * y1 * item)\n",
    "            w[0,:] = w[0,:] + delta_w + (momentum * momentum_w[0,:])\n",
    "            momentum_w[0,:] = delta_w                                \n",
    "            w1 = w[0,:]\n",
    "            YR[j] = y1\n",
    "        else:\n",
    "#             yj = np.sum(w[:,j] * item) + np.sum(u[:,j] * YR)\n",
    "# #             w[:,j] = w1 + (init_learning_rate * yj * item)\n",
    "#             delta_w = (init_learning_rate * yj * item)\n",
    "#             delta_u = (init_learning_side * yj * YR)\n",
    "#             w[:,j] = w[:,j] + delta_w + (momentum * momentum_w[:,j])\n",
    "#             u[:,j] = u[:,j] - delta_u + (momentum * momentum_u[:,j])\n",
    "            \n",
    "#             momentum_w[:,j] = delta_w            \n",
    "#             momentum_u[:,j] = delta_u\n",
    "#             print('u[:,j]: ', (u[:,j]).shape)\n",
    "#             print('YR: ', YR.shape)\n",
    "            yj = np.sum(w[j,:] * item) + np.sum(u[:,j]  * YR)\n",
    "#             w[:,j] = w1 + (init_learning_rate * yj * item)\n",
    "            delta_w = (init_learning_rate * yj**2 * item)\n",
    "            delta_u = (init_learning_side * yj**2 * YR)\n",
    "            w[j, :] = w[j, :] + delta_w + (momentum * momentum_w[j, :])\n",
    "            u[j, :] = u[j, :] - delta_u + (momentum * momentum_u[j, :])\n",
    "            \n",
    "            momentum_w[j,:] = delta_w\n",
    "            momentum_u[j,:] = delta_u\n",
    "                        \n",
    "#             u = np.tril(u, -1)\n",
    "            u = np.triu(u, 1)\n",
    "            YR[j] = yj\n",
    "#     init_learning_rate = max(0.0001, (factor * init_learning_rate))\n",
    "#     init_learning_side = max(0.0002, (factor * init_learning_side))\n",
    "#     momentum = max(0.0001, (factor * momentum))\n",
    "        \n",
    "            \n",
    "#     scaler = MinMaxScaler()\n",
    "#     scaler.fit(w)\n",
    "#     w = scaler.transform(w)\n",
    "    w = normalize(w, norm='l2')\n",
    "    suma_weights = np.sum(np.amax(np.absolute(u), axis = 0))\n",
    "#     if suma_weights < limiar:\n",
    "#         print('limiar')\n",
    "#         break\n",
    "print(w)\n",
    "# print(w.T)\n",
    "# print(u)\n",
    "    \n",
    "    \n",
    "            \n",
    "    "
   ]
  },
  {
   "cell_type": "code",
   "execution_count": 258,
   "metadata": {},
   "outputs": [],
   "source": [
    "# [[ 0.52237162 -0.26335492  0.58125401  0.56561105]\n",
    "#  [ 0.37231836  0.92555649  0.02109478  0.06541577]\n",
    "#  [-0.72101681  0.24203288  0.14089226  0.6338014 ]]"
   ]
  },
  {
   "cell_type": "code",
   "execution_count": null,
   "metadata": {},
   "outputs": [],
   "source": []
  },
  {
   "cell_type": "code",
   "execution_count": null,
   "metadata": {},
   "outputs": [],
   "source": []
  }
 ],
 "metadata": {
  "kernelspec": {
   "display_name": "Python 3",
   "language": "python",
   "name": "python3"
  },
  "language_info": {
   "codemirror_mode": {
    "name": "ipython",
    "version": 3
   },
   "file_extension": ".py",
   "mimetype": "text/x-python",
   "name": "python",
   "nbconvert_exporter": "python",
   "pygments_lexer": "ipython3",
   "version": "3.7.4"
  }
 },
 "nbformat": 4,
 "nbformat_minor": 2
}

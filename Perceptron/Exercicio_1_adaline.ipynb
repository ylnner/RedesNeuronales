{
 "cells": [
  {
   "cell_type": "code",
   "execution_count": 1,
   "metadata": {},
   "outputs": [],
   "source": [
    "import numpy as np"
   ]
  },
  {
   "cell_type": "code",
   "execution_count": null,
   "metadata": {},
   "outputs": [],
   "source": [
    "# # training set (Y e Y_inv)\n",
    "# data_train = [[+1, -1, -1, -1, +1, +1, -1, -1, -1, +1, -1, +1, +1, +1, -1, -1, -1, +1, -1, -1, -1, -1, +1, -1, -1],\n",
    "#                        [+1, +1, -1, -1, +1, +1, -1, -1, -1, +1, -1, +1, +1, +1, -1, -1, -1, +1, -1, -1, -1, -1, +1, -1, -1],\n",
    "#                        [+1, -1, -1, -1, +1, +1, -1, -1, -1, +1, -1, +1, +1, +1, -1, -1, +1, +1, +1, -1, -1, -1, +1, -1, -1],\n",
    "#                        [+1, -1, +1, -1, +1, +1, -1, -1, -1, +1, -1, +1, +1, +1, -1, -1, -1, +1, -1, -1, +1, -1, +1, -1, +1],\n",
    "#                        [+1, -1, +1, +1, +1, +1, -1, -1, -1, +1, -1, +1, +1, +1, -1, -1, -1, +1, -1, -1, -1, -1, +1, -1, -1],\n",
    "#                        [+1, -1, -1, -1, +1, +1, -1, -1, -1, +1, -1, +1, +1, +1, -1, -1, +1, +1, -1, -1, -1, -1, +1, -1, +1],\n",
    "#                        [-1, -1, +1, -1, -1, -1, -1, +1, -1, -1, -1, +1, +1, +1, -1, +1, -1, -1, -1, +1, +1, -1, -1, -1 ,+1],\n",
    "#                        [-1, -1, +1, -1, +1, -1, -1, +1, -1, -1, -1, +1, +1, +1, -1, +1, -1, -1, -1, +1, +1, -1, -1, -1, +1],\n",
    "#                        [-1, -1, +1, -1, -1, -1, -1, -1, -1, -1, -1, +1, +1, +1, -1, +1, -1, -1, -1, +1, +1, -1, +1, -1, +1],\n",
    "#                        [-1, -1, +1, -1, -1, -1, -1, +1, -1, -1, -1, +1, +1, -1, -1, +1, -1, -1, -1, +1, -1, -1, +1, -1, +1],\n",
    "#                        [-1, -1, +1, -1, -1, -1, +1, +1, +1, -1, -1, +1, +1, -1, -1, +1, -1, -1, -1, +1, +1, -1, -1, -1, +1], \n",
    "#                        [-1, -1, +1, -1, -1, -1, +1, +1, +1, -1, -1, +1, +1, +1, -1, +1, -1, +1, -1, +1, +1, -1, -1, -1, +1],\n",
    "#                        [+1, +1, +1, +1, +1, +1, -1, -1, -1, -1, -1, -1]]"
   ]
  },
  {
   "cell_type": "code",
   "execution_count": null,
   "metadata": {},
   "outputs": [],
   "source": [
    "# # testing set (Y e Y_inv)\n",
    "# data_test = [[+1, -1, -1, -1, +1, +1, -1, -1, -1, +1, -1, +1, -1, +1, -1, -1, -1, +1, -1, -1, -1, -1, +1, -1, -1],\n",
    "#                       [+1, +1, -1, -1, +1, +1, -1, -1, -1, +1, -1, +1, +1, +1, -1, -1, -1, +1, -1, -1, -1, -1, +1, -1, -1],\n",
    "#                       [+1, -1, -1, -1, +1, +1, -1, -1, -1, +1, -1, -1, +1, +1, -1, -1, -1, +1, -1, -1, -1, -1, +1, -1, -1],\n",
    "#                       [-1, -1, -1, -1, -1, +1, -1, -1, -1, +1, -1, +1, +1, +1, -1, -1, -1, +1, -1, -1, -1, -1, +1, -1, -1],\n",
    "#                       [+1, -1, -1, -1, +1, +1, -1, -1, -1, +1, -1, +1, +1, +1, -1, -1, -1, +1, -1, -1, -1, -1, -1, -1, -1],\n",
    "#                       [+1, -1, -1, -1, +1, +1, -1, -1, -1, +1, -1, +1, +1, -1, -1, -1, -1, +1, -1, -1, -1, -1, +1, -1, -1],\n",
    "#                       [-1, -1, -1, -1, +1, -1, -1, +1, -1, -1, -1, +1, +1, +1, -1, +1, -1, -1, +1, +1, +1, -1, -1, -1, +1], \n",
    "#                       [+1, -1, +1, -1, -1, -1, -1, +1, -1, -1, -1, +1, +1, -1, -1, +1, -1, -1, +1, +1, +1, -1, -1, -1, +1],\n",
    "#                       [+1, -1, +1, -1, -1, +1, -1, +1, -1, +1, -1, +1, +1, -1, -1, +1, -1, -1, +1, +1, +1, -1, -1, -1, +1], \n",
    "#                       [+1, -1, +1, -1, -1, -1, -1, +1, -1, -1, -1, +1, +1, -1, -1, +1, -1, -1, +1, +1, +1, -1, -1, -1, +1],\n",
    "#                       [+1, +1, +1, -1, -1, -1, -1, +1, -1, -1, +1, +1, +1, -1, -1, +1, -1, -1, +1, +1, +1, -1, -1, -1, +1], \n",
    "#                       [+1, -1, +1, +1, +1, -1, -1, +1, -1, -1, -1, +1, +1, -1, -1, +1, -1, -1, +1, +1, +1, -1, +1, -1, +1]]"
   ]
  },
  {
   "cell_type": "code",
   "execution_count": 2,
   "metadata": {},
   "outputs": [],
   "source": [
    "def loadFile(nameFile):\n",
    "    data       = open(nameFile, 'r')\n",
    "    X_train    = [] \n",
    "    Y_train    = []\n",
    "    \n",
    "    for line in data.readlines():\n",
    "        np_temp         = np.fromstring(line, dtype = float, sep = ' ')\n",
    "        target          = np_temp[len(np_temp)-1]\n",
    "        np_temp         = np.delete(np_temp, len(np_temp)-1)\n",
    "        \n",
    "        X_train.append(np_temp)\n",
    "        Y_train.append(target)\n",
    "\n",
    "    data.close()\n",
    "    return X_train, Y_train"
   ]
  },
  {
   "cell_type": "code",
   "execution_count": 8,
   "metadata": {},
   "outputs": [
    {
     "name": "stdout",
     "output_type": "stream",
     "text": [
      "Final Weights: [ 0.  2.  0. -2.  0.  2.  2.  0. -2.  0.  2.  0.  0.  0.  0.  0. -2.  0.\n",
      "  2.  0. -2. -2.  0.  2.  0. -2.]\n",
      "Accuracy:  1.0\n"
     ]
    }
   ],
   "source": [
    "# Executing Adaline\n",
    "\n",
    "# loading data\n",
    "X_train, X_target = loadFile(\"data_train.txt\")\n",
    "\n",
    "data_test = open(\"data_test.txt\", 'r')\n",
    "X_test    = [] \n",
    "        \n",
    "for line in data_test.readlines():\n",
    "    np_temp = np.fromstring(line, dtype = float, sep = ' ')      \n",
    "    X_test.append(np_temp)\n",
    "\n",
    "    \n",
    "# initial weights\n",
    "w = np.array([0, 0, 0, 0, 0, 0, 0, 0, 0, 0, 0, 0, 0, 0, 0, 0, 0, 0, 0, 0, 0, 0, 0, 0, 0, 0])\n",
    "    \n",
    "# training set\n",
    "train = X_train[0:len(X_train)]\n",
    "\n",
    "\n",
    "# adding bias to training set\n",
    "for i in range(0,len(train)):\n",
    "    train[i] = (np.insert(train[i], 0, +1, axis=0))\n",
    "\n",
    "# adding bias to testing set\n",
    "for i in range(0,len(X_test)):\n",
    "    X_test[i] = (np.insert(X_test[i], 0, +1))\n",
    "    \n",
    "# output desired\n",
    "output = X_target\n",
    "  \n",
    "# parameters\n",
    "number_train  = len(train)\n",
    "isError       = True\n",
    "number_iter   = 10\n",
    "learning_rate = 0.5\n",
    "\n",
    "\n",
    "for i in range(number_iter):\n",
    "    isOK = True\n",
    "\n",
    "    for j in range(len(train)):\n",
    "        ynet = np.sum(train[j] * w)\n",
    "\n",
    "        if ynet > 0:\n",
    "            ynet = 1\n",
    "        else:\n",
    "            ynet = -1\n",
    "\n",
    "        if ynet != output[j]:\n",
    "            isOK    = False\n",
    "            error   = output[j] - ynet\n",
    "            delta_w = learning_rate * train[j] * error            \n",
    "            w       = w + delta_w\n",
    "\n",
    "    if isOK == True:\n",
    "        break\n",
    "\n",
    "print('Final Weights:', w)\n",
    "    \n",
    "countCorrect = 0\n",
    "for k in range(len(X_test)):\n",
    "    ynet = np.sum(X_test[k] * w)\n",
    "    \n",
    "    if ynet> 0:\n",
    "        ynet = 1\n",
    "    else:\n",
    "        ynet = -1\n",
    "        \n",
    "    if ynet == X_target[k]:\n",
    "        countCorrect += 1\n",
    "    \n",
    "    # print('Saida: ', ynet)\n",
    "\n",
    "print('Accuracy: ', countCorrect / len(X_target))\n",
    "    "
   ]
  },
  {
   "cell_type": "code",
   "execution_count": null,
   "metadata": {},
   "outputs": [],
   "source": []
  },
  {
   "cell_type": "code",
   "execution_count": null,
   "metadata": {},
   "outputs": [],
   "source": []
  }
 ],
 "metadata": {
  "kernelspec": {
   "display_name": "Python 3",
   "language": "python",
   "name": "python3"
  },
  "language_info": {
   "codemirror_mode": {
    "name": "ipython",
    "version": 3
   },
   "file_extension": ".py",
   "mimetype": "text/x-python",
   "name": "python",
   "nbconvert_exporter": "python",
   "pygments_lexer": "ipython3",
   "version": "3.7.3"
  }
 },
 "nbformat": 4,
 "nbformat_minor": 2
}

{
 "cells": [
  {
   "cell_type": "code",
   "execution_count": 1,
   "metadata": {},
   "outputs": [
    {
     "name": "stderr",
     "output_type": "stream",
     "text": [
      "Using TensorFlow backend.\n",
      "/home/alexander/anaconda3/envs/tf/lib/python3.7/site-packages/tensorflow/python/framework/dtypes.py:516: FutureWarning: Passing (type, 1) or '1type' as a synonym of type is deprecated; in a future version of numpy, it will be understood as (type, (1,)) / '(1,)type'.\n",
      "  _np_qint8 = np.dtype([(\"qint8\", np.int8, 1)])\n",
      "/home/alexander/anaconda3/envs/tf/lib/python3.7/site-packages/tensorflow/python/framework/dtypes.py:517: FutureWarning: Passing (type, 1) or '1type' as a synonym of type is deprecated; in a future version of numpy, it will be understood as (type, (1,)) / '(1,)type'.\n",
      "  _np_quint8 = np.dtype([(\"quint8\", np.uint8, 1)])\n",
      "/home/alexander/anaconda3/envs/tf/lib/python3.7/site-packages/tensorflow/python/framework/dtypes.py:518: FutureWarning: Passing (type, 1) or '1type' as a synonym of type is deprecated; in a future version of numpy, it will be understood as (type, (1,)) / '(1,)type'.\n",
      "  _np_qint16 = np.dtype([(\"qint16\", np.int16, 1)])\n",
      "/home/alexander/anaconda3/envs/tf/lib/python3.7/site-packages/tensorflow/python/framework/dtypes.py:519: FutureWarning: Passing (type, 1) or '1type' as a synonym of type is deprecated; in a future version of numpy, it will be understood as (type, (1,)) / '(1,)type'.\n",
      "  _np_quint16 = np.dtype([(\"quint16\", np.uint16, 1)])\n",
      "/home/alexander/anaconda3/envs/tf/lib/python3.7/site-packages/tensorflow/python/framework/dtypes.py:520: FutureWarning: Passing (type, 1) or '1type' as a synonym of type is deprecated; in a future version of numpy, it will be understood as (type, (1,)) / '(1,)type'.\n",
      "  _np_qint32 = np.dtype([(\"qint32\", np.int32, 1)])\n",
      "/home/alexander/anaconda3/envs/tf/lib/python3.7/site-packages/tensorflow/python/framework/dtypes.py:525: FutureWarning: Passing (type, 1) or '1type' as a synonym of type is deprecated; in a future version of numpy, it will be understood as (type, (1,)) / '(1,)type'.\n",
      "  np_resource = np.dtype([(\"resource\", np.ubyte, 1)])\n",
      "/home/alexander/anaconda3/envs/tf/lib/python3.7/site-packages/tensorboard/compat/tensorflow_stub/dtypes.py:541: FutureWarning: Passing (type, 1) or '1type' as a synonym of type is deprecated; in a future version of numpy, it will be understood as (type, (1,)) / '(1,)type'.\n",
      "  _np_qint8 = np.dtype([(\"qint8\", np.int8, 1)])\n",
      "/home/alexander/anaconda3/envs/tf/lib/python3.7/site-packages/tensorboard/compat/tensorflow_stub/dtypes.py:542: FutureWarning: Passing (type, 1) or '1type' as a synonym of type is deprecated; in a future version of numpy, it will be understood as (type, (1,)) / '(1,)type'.\n",
      "  _np_quint8 = np.dtype([(\"quint8\", np.uint8, 1)])\n",
      "/home/alexander/anaconda3/envs/tf/lib/python3.7/site-packages/tensorboard/compat/tensorflow_stub/dtypes.py:543: FutureWarning: Passing (type, 1) or '1type' as a synonym of type is deprecated; in a future version of numpy, it will be understood as (type, (1,)) / '(1,)type'.\n",
      "  _np_qint16 = np.dtype([(\"qint16\", np.int16, 1)])\n",
      "/home/alexander/anaconda3/envs/tf/lib/python3.7/site-packages/tensorboard/compat/tensorflow_stub/dtypes.py:544: FutureWarning: Passing (type, 1) or '1type' as a synonym of type is deprecated; in a future version of numpy, it will be understood as (type, (1,)) / '(1,)type'.\n",
      "  _np_quint16 = np.dtype([(\"quint16\", np.uint16, 1)])\n",
      "/home/alexander/anaconda3/envs/tf/lib/python3.7/site-packages/tensorboard/compat/tensorflow_stub/dtypes.py:545: FutureWarning: Passing (type, 1) or '1type' as a synonym of type is deprecated; in a future version of numpy, it will be understood as (type, (1,)) / '(1,)type'.\n",
      "  _np_qint32 = np.dtype([(\"qint32\", np.int32, 1)])\n",
      "/home/alexander/anaconda3/envs/tf/lib/python3.7/site-packages/tensorboard/compat/tensorflow_stub/dtypes.py:550: FutureWarning: Passing (type, 1) or '1type' as a synonym of type is deprecated; in a future version of numpy, it will be understood as (type, (1,)) / '(1,)type'.\n",
      "  np_resource = np.dtype([(\"resource\", np.ubyte, 1)])\n"
     ]
    }
   ],
   "source": [
    "from numpy import loadtxt\n",
    "from keras.models import load_model\n",
    "from keras.preprocessing.image import img_to_array\n",
    "import numpy as np\n",
    "import cv2\n",
    "import os\n",
    "import glob\n",
    "import keras"
   ]
  },
  {
   "cell_type": "code",
   "execution_count": 2,
   "metadata": {},
   "outputs": [],
   "source": [
    "def desprocessCategory(idx_max):\n",
    "    output_label = ''\n",
    "    if idx_max == 0:\n",
    "        output_label = 'angry'\n",
    "    elif idx_max == 1:\n",
    "        output_label = 'disgust'\n",
    "    elif idx_max == 2:\n",
    "        output_label = 'fear'\n",
    "    elif idx_max == 3:\n",
    "        output_label = 'happy'\n",
    "    elif idx_max == 4:\n",
    "        output_label = 'neutral'\n",
    "    elif idx_max == 5:\n",
    "        output_label = 'sad'\n",
    "    elif idx_max == 6:\n",
    "        output_label = 'surprise'\n",
    "    return output_label.upper()"
   ]
  },
  {
   "cell_type": "code",
   "execution_count": 20,
   "metadata": {
    "scrolled": true
   },
   "outputs": [
    {
     "name": "stdout",
     "output_type": "stream",
     "text": [
      "For the item of kind ANGRY is predicted: ANGRY\n",
      "For the item of kind DISGUST is predicted: HAPPY\n",
      "For the item of kind FEAR is predicted: FEAR\n",
      "For the item of kind HAPPY is predicted: HAPPY\n",
      "For the item of kind NEUTRAL is predicted: DISGUST\n",
      "For the item of kind SAD is predicted: FEAR\n",
      "For the item of kind SURPRISE is predicted: SURPRISE\n",
      "Loss:  6.907777309417725\n",
      "Accuracy:  0.5714285969734192\n"
     ]
    }
   ],
   "source": [
    "categories  = ['angry','disgust','fear','happy','neutral','sad','surprise']\n",
    "# categories  = ['surprise']\n",
    "data        = []\n",
    "y           = []\n",
    "img_dir     = 'test'\n",
    "target = []\n",
    "real_target = []\n",
    "for idx, category in enumerate(categories):\n",
    "#     y_aux       = processCategory(category)    \n",
    "    img_dir_aux = img_dir + '/'+ category\n",
    "    data_path   = os.path.join(img_dir_aux,'*g')\n",
    "    files       = glob.glob(data_path)          \n",
    "    \n",
    "    for f1 in files:\n",
    "        img        = cv2.imread(f1,0)\n",
    "        img_resize = cv2.resize(img, (32, 32), interpolation = cv2.INTER_AREA)\n",
    "        img_resize = img_to_array(img_resize)\n",
    "        \n",
    "#         print(img_resize.shape)        \n",
    "\n",
    "        data.append(img_resize)\n",
    "        target.append(idx)\n",
    "        real_target.append(category)\n",
    "        \n",
    "target = keras.utils.to_categorical(target, len(categories)) \n",
    "# print('target')\n",
    "# print(target)\n",
    "data = np.array(data)\n",
    "y    = np.array(y)\n",
    "\n",
    "\n",
    "# Load Model\n",
    "name_model   = 'facesv6.h5'\n",
    "model        = load_model(name_model)\n",
    "score        = model.evaluate(data, target, verbose=0)\n",
    "output       = model.predict(data)\n",
    "output_label = []\n",
    "\n",
    "for i in range(len(output)):\n",
    "    idx_max = np.argmax(output[i])\n",
    "    print('For the item of kind ' + real_target[i].upper() + ' is predicted: ' + desprocessCategory(idx_max))\n",
    "    \n",
    "print('Loss: ', score[0])\n",
    "print('Accuracy: ', score[1])"
   ]
  },
  {
   "cell_type": "code",
   "execution_count": null,
   "metadata": {},
   "outputs": [],
   "source": []
  }
 ],
 "metadata": {
  "kernelspec": {
   "display_name": "Python 3",
   "language": "python",
   "name": "python3"
  },
  "language_info": {
   "codemirror_mode": {
    "name": "ipython",
    "version": 3
   },
   "file_extension": ".py",
   "mimetype": "text/x-python",
   "name": "python",
   "nbconvert_exporter": "python",
   "pygments_lexer": "ipython3",
   "version": "3.7.4"
  }
 },
 "nbformat": 4,
 "nbformat_minor": 2
}

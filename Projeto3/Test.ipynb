{
 "cells": [
  {
   "cell_type": "code",
   "execution_count": 2,
   "metadata": {},
   "outputs": [],
   "source": [
    "from numpy import loadtxt\n",
    "from keras.models import load_model\n",
    "from keras.preprocessing.image import img_to_array\n",
    "import numpy as np\n",
    "import cv2\n",
    "import os\n",
    "import glob\n",
    "import keras"
   ]
  },
  {
   "cell_type": "code",
   "execution_count": 21,
   "metadata": {},
   "outputs": [],
   "source": [
    "def load_data():\n",
    "    categories = ['cats','dogs']\n",
    "    # Training and Testing\n",
    "    data             = []\n",
    "    target           = []\n",
    "    size_image       = 160\n",
    "    img_dir          = 'validation'   # This is test \n",
    "    \n",
    "    for idx, category in enumerate(categories):\n",
    "        img_dir_aux = img_dir + '/'+ category\n",
    "        data_path   = os.path.join(img_dir_aux, '*g')\n",
    "        files       = glob.glob(data_path)\n",
    "        for f1 in files:\n",
    "            img        = cv2.imread(f1)\n",
    "            img_resize = cv2.resize(img, (size_image, size_image), interpolation = cv2.INTER_AREA)\n",
    "            img_resize = img_to_array(img_resize)\n",
    "            \n",
    "            data.append(img_resize)\n",
    "            target.append(idx)\n",
    "        \n",
    "#     target     = keras.utils.to_categorical(target, len(categories))\n",
    "#     target     = processCategory\n",
    "    data       = np.array(data)\n",
    "    target     = np.array(target)    \n",
    "    data       = data.astype(np.uint8)/255.0 \n",
    "                          \n",
    "    return data, target"
   ]
  },
  {
   "cell_type": "code",
   "execution_count": 22,
   "metadata": {},
   "outputs": [
    {
     "name": "stdout",
     "output_type": "stream",
     "text": [
      "(1000, 160, 160, 3)\n",
      "(1000,)\n",
      "Loss:  0.20220886915922165\n",
      "Accuracy:  0.926\n"
     ]
    }
   ],
   "source": [
    "test_data, test_target = load_data()\n",
    "\n",
    "print(test_data.shape)\n",
    "print(test_target.shape)\n",
    "# Load Model\n",
    "name_model   = 'dogscats.h5'\n",
    "model        = load_model(name_model)\n",
    "score        = model.evaluate(test_data, test_target, verbose=0)\n",
    "output       = model.predict(test_data)\n",
    "\n",
    "print('Loss: ', score[0])\n",
    "print('Accuracy: ', score[1])"
   ]
  },
  {
   "cell_type": "code",
   "execution_count": null,
   "metadata": {},
   "outputs": [],
   "source": []
  }
 ],
 "metadata": {
  "kernelspec": {
   "display_name": "Python 3",
   "language": "python",
   "name": "python3"
  },
  "language_info": {
   "codemirror_mode": {
    "name": "ipython",
    "version": 3
   },
   "file_extension": ".py",
   "mimetype": "text/x-python",
   "name": "python",
   "nbconvert_exporter": "python",
   "pygments_lexer": "ipython3",
   "version": "3.7.4"
  }
 },
 "nbformat": 4,
 "nbformat_minor": 2
}

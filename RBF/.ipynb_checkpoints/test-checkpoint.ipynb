{
 "cells": [
  {
   "cell_type": "code",
   "execution_count": 6,
   "metadata": {},
   "outputs": [],
   "source": [
    "import sys\n",
    "import math\n",
    "import numpy as np\n",
    "import pandas as pd\n",
    "from sklearn import preprocessing\n",
    "\n"
   ]
  },
  {
   "cell_type": "code",
   "execution_count": 43,
   "metadata": {},
   "outputs": [
    {
     "data": {
      "text/plain": [
       "pandas.core.series.Series"
      ]
     },
     "execution_count": 43,
     "metadata": {},
     "output_type": "execute_result"
    }
   ],
   "source": [
    "# Load dataset\n",
    "dataset = pd.read_csv(\"wine.data\", header = None)\n",
    "\n",
    "y                = dataset[0]#.to_frame()\n",
    "x_without_target = dataset.drop([0], axis = 1)\n",
    "temp             = x_without_target.values.astype(float)\n",
    "min_max_scaler   = preprocessing.MinMaxScaler()\n",
    "x_scaled         = min_max_scaler.fit_transform(temp)\n",
    "x                = pd.DataFrame(x_scaled)\n",
    "\n",
    "\n",
    "\n",
    "#y = y.to_frame()\n",
    "#x = x.to_frame()\n",
    "#type(dataset)\n",
    "#type(x)\n",
    "type(y)"
   ]
  },
  {
   "cell_type": "code",
   "execution_count": 62,
   "metadata": {},
   "outputs": [
    {
     "name": "stdout",
     "output_type": "stream",
     "text": [
      "old_value:  1\n",
      "x_dictionary[1]\n",
      "0     0.714407\n",
      "1     0.251122\n",
      "2     0.585879\n",
      "3     0.331819\n",
      "4     0.394989\n",
      "5     0.641438\n",
      "6     0.557463\n",
      "7     0.301887\n",
      "8     0.469818\n",
      "9     0.362483\n",
      "10    0.473198\n",
      "11    0.691501\n",
      "12    0.597512\n",
      "dtype: float64\n",
      "x_dictionary[2]\n",
      "0     0.503704\n",
      "1     0.242703\n",
      "2     0.524311\n",
      "3     0.421927\n",
      "4     0.325000\n",
      "5     0.531963\n",
      "6     0.453586\n",
      "7     0.377794\n",
      "8     0.423465\n",
      "9     0.248700\n",
      "10    0.470644\n",
      "11    0.616991\n",
      "12    0.365258\n",
      "dtype: float64\n",
      "x_dictionary[3]\n",
      "0     0.516905\n",
      "1     0.313515\n",
      "2     0.537116\n",
      "3     0.457045\n",
      "4     0.323508\n",
      "5     0.453965\n",
      "6     0.357899\n",
      "7     0.435348\n",
      "8     0.372953\n",
      "9     0.320366\n",
      "10    0.389766\n",
      "11    0.493554\n",
      "12    0.335199\n",
      "dtype: float64\n"
     ]
    }
   ],
   "source": [
    "x_dictionary = {}\n",
    "old_value = y[0]\n",
    "print('old_value: ', old_value)\n",
    "for idx, value in y.items():\n",
    "    if old_value != value or idx == len(y) - 1:\n",
    "        new_df = x.iloc[:idx]\n",
    "        x_dictionary[old_value] = new_df.mean(axis = 0)\n",
    "        old_value = value\n",
    "\n",
    "print('x_dictionary[1]')\n",
    "print(x_dictionary[1])\n",
    "print('x_dictionary[2]')\n",
    "print(x_dictionary[2])\n",
    "print('x_dictionary[3]')\n",
    "print(x_dictionary[3])\n",
    "\n",
    "# for key, value in x_dictionary.items() :\n",
    "#     print (key)\n",
    "    "
   ]
  }
 ],
 "metadata": {
  "kernelspec": {
   "display_name": "Python 3",
   "language": "python",
   "name": "python3"
  },
  "language_info": {
   "codemirror_mode": {
    "name": "ipython",
    "version": 3
   },
   "file_extension": ".py",
   "mimetype": "text/x-python",
   "name": "python",
   "nbconvert_exporter": "python",
   "pygments_lexer": "ipython3",
   "version": "3.7.3"
  }
 },
 "nbformat": 4,
 "nbformat_minor": 2
}

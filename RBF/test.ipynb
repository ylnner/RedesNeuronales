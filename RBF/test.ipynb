{
 "cells": [
  {
   "cell_type": "code",
   "execution_count": 1,
   "metadata": {},
   "outputs": [],
   "source": [
    "import sys\n",
    "import math\n",
    "import numpy as np\n",
    "import pandas as pd\n",
    "from sklearn import preprocessing"
   ]
  },
  {
   "cell_type": "code",
   "execution_count": 2,
   "metadata": {},
   "outputs": [],
   "source": [
    "def preprocess_dataset():\n",
    "    # Load dataset\n",
    "    dataset = pd.read_csv(\"wine.data\", header = None)\n",
    "    label_target = dataset[0]\n",
    "    target = []\n",
    "    \n",
    "    for i in range(len(label_target)):\n",
    "        if label_target[i] == 1:\n",
    "            element = 0 #[1, 0, 0]\n",
    "        elif label_target[i] == 2:\n",
    "            element = 1 #[0, 1, 0]\n",
    "        elif label_target[i] == 3:\n",
    "            element = 2 #[0, 0, 1]\n",
    "        target.append(element)\n",
    "    \n",
    "    x_without_target = dataset.drop([0], axis = 1)\n",
    "    temp             = x_without_target.values.astype(float)\n",
    "    min_max_scaler   = preprocessing.MinMaxScaler()\n",
    "    x_scaled         = min_max_scaler.fit_transform(temp)\n",
    "    predictive       = pd.DataFrame(x_scaled)\n",
    "\n",
    "    dataset.head()\n",
    "    \n",
    "    return np.array(predictive), np.array(target), label_target"
   ]
  },
  {
   "cell_type": "code",
   "execution_count": 10,
   "metadata": {},
   "outputs": [],
   "source": [
    "def centers(predictive, label_target):\n",
    "    old_value = label_target[0]\n",
    "    old_idx = 0\n",
    "    centers_dataset = []\n",
    "    \n",
    "    for idx, value in label_target.items():\n",
    "        \n",
    "        if old_value != value or idx == len(label_target) - 1:\n",
    "            new_df = predictive.iloc[old_idx:idx]\n",
    "            centers_dataset.append(new_df.mean(axis = 0))\n",
    "            old_idx   = idx\n",
    "            old_value = value\n",
    "            \n",
    "    centers_dataset = np.array(centers_dataset)\n",
    "    return centers_dataset\n",
    "\n",
    "# centers_dataset = centers(pd.DataFrame(predictive), label_target)"
   ]
  },
  {
   "cell_type": "code",
   "execution_count": 4,
   "metadata": {},
   "outputs": [],
   "source": [
    "def phi(x, centro, function):\n",
    "    if function=='gaussian':\n",
    "        arg = -(np.linalg.norm((np.subtract(x,centro)), ord=None, axis=None, keepdims=False))\n",
    "        res = math.exp(arg)\n",
    "    return res\n",
    "\n",
    "def sigmoid(x):\n",
    "    return (1 /(1+ np.exp(-x)))"
   ]
  },
  {
   "cell_type": "code",
   "execution_count": 5,
   "metadata": {},
   "outputs": [],
   "source": [
    "from sklearn.model_selection import StratifiedShuffleSplit\n",
    "def split_dataset(data, target, old_target = []):\n",
    "    stratSplit = StratifiedShuffleSplit(n_splits=1, test_size=0.8, random_state=42)\n",
    "    for test_idx, train_idx in stratSplit.split(data, target):\n",
    "        data_train   = data[train_idx]\n",
    "        target_train = target[train_idx]\n",
    "\n",
    "        data_test = data[test_idx]\n",
    "        target_test = target[test_idx]\n",
    "        \n",
    "        old_target_test = old_target[test_idx]\n",
    "        return data_train, data_test, target_train, target_test, old_target_test"
   ]
  },
  {
   "cell_type": "code",
   "execution_count": 6,
   "metadata": {},
   "outputs": [],
   "source": [
    "# centros: [centro_1, centro_2, centro_3]\n",
    "# 3 funciones phi\n",
    "# number_neurons: number of neurons in out layer \n",
    "def RBF(Input, centros, number_neurons, W, function):\n",
    "    out_phi = []\n",
    "    for i in range(len(centros)):\n",
    "        out_phi.append(phi(Input, centros[i], function))\n",
    "    out_phi   = np.array(out_phi)\n",
    "    new_input = np.dot(out_phi, W)\n",
    "    output = new_input\n",
    "#     output    = sigmoid(new_input)\n",
    "    return output, out_phi"
   ]
  },
  {
   "cell_type": "code",
   "execution_count": 49,
   "metadata": {},
   "outputs": [
    {
     "name": "stdout",
     "output_type": "stream",
     "text": [
      "W\n",
      "[-1.69041762 -8.02038476 11.69062154]\n"
     ]
    }
   ],
   "source": [
    "predictive, target, label_target = preprocess_dataset()\n",
    "centers_dataset = centers(pd.DataFrame(predictive), label_target)\n",
    "data_train, data_test, target_train, target_test, old_target_test = split_dataset(predictive, target, label_target)\n",
    "\n",
    "\n",
    "# Intialization of weights\n",
    "# inputs       = data_train\n",
    "centros = centers_dataset\n",
    "number_neurons = 1\n",
    "# W = np.zeros([number_neurons, len(centros)])\n",
    "# W        = np.random.uniform(low = -1, high = 1, size = [number_neurons, len(centros)])\n",
    "W        = np.random.uniform(low = -1, high = 1, size = len(centros))\n",
    "maxNumberOfIterations = 15000\n",
    "function = 'gaussian'\n",
    "learning_rate = 0.3\n",
    "\n",
    "# Update of weights\n",
    "for n in range(maxNumberOfIterations):\n",
    "    for i in range(len(data_train)):\n",
    "#         print('W entra')\n",
    "#         print(W)\n",
    "        output, phi_values = RBF(data_train[i], centros, number_neurons, W, function)\n",
    "#         print('(target_train[i])')\n",
    "#         print((target_train[i]))\n",
    "#         print('output')\n",
    "#         print(output)\n",
    "        aux = learning_rate * np.array(target_train[i] - output) * np.array(phi_values)\n",
    "#         print('aux: ', aux)\n",
    "#         print('np.dot((target[i] - output), phi_values ): ', np.dot((target[i] - output), phi_values ))\n",
    "#         print('W old')\n",
    "#         print(W)\n",
    "        W = W + aux\n",
    "#         for j in range(len(W)):\n",
    "#             W[j] = W[j] + aux\n",
    "#         print('W sale')\n",
    "#         print(W)\n",
    "print('W')\n",
    "print(W)            "
   ]
  },
  {
   "cell_type": "code",
   "execution_count": null,
   "metadata": {},
   "outputs": [],
   "source": [
    "target_train"
   ]
  },
  {
   "cell_type": "code",
   "execution_count": 50,
   "metadata": {},
   "outputs": [
    {
     "name": "stdout",
     "output_type": "stream",
     "text": [
      "output:  1.5428043675444325\n",
      "target_test:  1\n",
      "output:  1.673657743202961\n",
      "target_test:  2\n",
      "output:  0.2184643528397121\n",
      "target_test:  0\n",
      "output:  0.22758527200276202\n",
      "target_test:  0\n",
      "output:  0.9855596071600816\n",
      "target_test:  1\n",
      "output:  0.8441358665441161\n",
      "target_test:  1\n",
      "output:  1.7807114399514008\n",
      "target_test:  2\n",
      "output:  1.4979054072301725\n",
      "target_test:  1\n",
      "output:  1.5418555149182427\n",
      "target_test:  2\n",
      "output:  1.4745219174386168\n",
      "target_test:  1\n",
      "output:  1.407637469474731\n",
      "target_test:  2\n",
      "output:  1.8099205491269141\n",
      "target_test:  2\n",
      "output:  2.011601563204548\n",
      "target_test:  2\n",
      "output:  0.1515738335706791\n",
      "target_test:  0\n",
      "output:  0.299597288306062\n",
      "target_test:  0\n",
      "output:  1.2037682136641052\n",
      "target_test:  1\n",
      "output:  1.6247656903247671\n",
      "target_test:  1\n",
      "output:  1.5623163801999085\n",
      "target_test:  2\n",
      "output:  1.51914691165267\n",
      "target_test:  1\n",
      "output:  1.2769977091590512\n",
      "target_test:  1\n",
      "output:  2.1256773723639455\n",
      "target_test:  2\n",
      "output:  0.7296103149981086\n",
      "target_test:  1\n",
      "output:  1.7805274870020042\n",
      "target_test:  1\n",
      "output:  0.7093379188874849\n",
      "target_test:  1\n",
      "output:  0.04128837747844827\n",
      "target_test:  0\n",
      "output:  0.3240754764285203\n",
      "target_test:  0\n",
      "output:  0.5008260880716149\n",
      "target_test:  1\n",
      "output:  -0.03287040588679879\n",
      "target_test:  0\n",
      "output:  0.8432450843464752\n",
      "target_test:  0\n",
      "output:  0.02985640464074546\n",
      "target_test:  0\n",
      "output:  1.0747272520248754\n",
      "target_test:  2\n",
      "output:  0.8601883592931339\n",
      "target_test:  0\n",
      "output:  0.4012390765918301\n",
      "target_test:  0\n",
      "output:  0.7758924484634839\n",
      "target_test:  0\n",
      "output:  1.1508058958769416\n",
      "target_test:  1\n"
     ]
    }
   ],
   "source": [
    "for i in range(len(data_test)):\n",
    "    output, phi_values = RBF(data_test[i], centros, number_neurons, W, function)        \n",
    "    print('output: ', output)\n",
    "    print('target_test: ', target_test[i])\n"
   ]
  },
  {
   "cell_type": "code",
   "execution_count": null,
   "metadata": {},
   "outputs": [],
   "source": []
  }
 ],
 "metadata": {
  "kernelspec": {
   "display_name": "Python 3",
   "language": "python",
   "name": "python3"
  },
  "language_info": {
   "codemirror_mode": {
    "name": "ipython",
    "version": 3
   },
   "file_extension": ".py",
   "mimetype": "text/x-python",
   "name": "python",
   "nbconvert_exporter": "python",
   "pygments_lexer": "ipython3",
   "version": "3.7.3"
  }
 },
 "nbformat": 4,
 "nbformat_minor": 2
}

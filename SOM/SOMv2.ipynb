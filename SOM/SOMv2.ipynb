{
 "cells": [
  {
   "cell_type": "code",
   "execution_count": 1,
   "metadata": {},
   "outputs": [],
   "source": [
    "from __future__ import division\n",
    "\n",
    "import numpy as np\n",
    "import pandas as pd\n",
    "from matplotlib import pyplot as plt\n",
    "from matplotlib import patches as patches\n",
    "import random\n",
    "\n",
    "%matplotlib inline"
   ]
  },
  {
   "cell_type": "code",
   "execution_count": 2,
   "metadata": {},
   "outputs": [
    {
     "name": "stdout",
     "output_type": "stream",
     "text": [
      "13\n"
     ]
    }
   ],
   "source": [
    "data = np.loadtxt(\"vinhos.txt\", delimiter=',')\n",
    "target = data[:,0]\n",
    "data = data[:,1:]\n",
    "\n",
    "print(data.shape[1])\n",
    "\n",
    "data = data / np.linalg.norm(data)"
   ]
  },
  {
   "cell_type": "code",
   "execution_count": 3,
   "metadata": {},
   "outputs": [
    {
     "data": {
      "text/plain": [
       "array([1.30573482e-03, 1.56908401e-04, 2.22975096e-04, 1.43144506e-03,\n",
       "       1.16534310e-02, 2.56926037e-04, 2.80783455e-04, 2.56926037e-05,\n",
       "       2.10128795e-04, 5.17522446e-04, 9.54296709e-05, 3.59696452e-04,\n",
       "       9.77236534e-02])"
      ]
     },
     "execution_count": 3,
     "metadata": {},
     "output_type": "execute_result"
    }
   ],
   "source": [
    "data[0]"
   ]
  },
  {
   "cell_type": "code",
   "execution_count": 4,
   "metadata": {},
   "outputs": [],
   "source": [
    "def compete(input, net, n_features):\n",
    "    bmu_idx = np.array([0, 0])\n",
    "    idx_x = -1\n",
    "    idx_y = -1\n",
    "    min_dist = np.iinfo(np.int).max\n",
    "    \n",
    "    # calculate the distance between each neuron and the input\n",
    "    for x in range(net.shape[0]):\n",
    "        for y in range(net.shape[1]):\n",
    "            w = net[x, y, :].reshape(n_features, 1)\n",
    "            sq_dist = np.sum((w - input) ** 2)\n",
    "            sq_dist = np.sqrt(sq_dist)\n",
    "            if sq_dist < min_dist:\n",
    "                min_dist = sq_dist # dist\n",
    "#                 bmu_idx = np.array([x, y]) # id\n",
    "                idx_x = x\n",
    "                idx_y = y\n",
    "    \n",
    "    bmu = net[bmu_idx[0], bmu_idx[1], :].reshape(n_features, 1)\n",
    "#     return (bmu, bmu_idx)\n",
    "    return bmu, idx_x, idx_y"
   ]
  },
  {
   "cell_type": "code",
   "execution_count": 5,
   "metadata": {},
   "outputs": [],
   "source": [
    "def decay_param(param_value, t, constant):\n",
    "    return param_value * np.exp(-t / constant)\n",
    "\n",
    "def decay_radius(initial_radius, i, time_constant):\n",
    "    return initial_radius * np.exp(-i / time_constant)\n",
    "\n",
    "def decay_learning_rate(initial_learning_rate, i, n_iterations):\n",
    "    return initial_learning_rate * np.exp(-i / n_iterations)\n",
    "\n",
    "def calculate_influence(distance, radius):\n",
    "    return np.exp(-distance / (2* (radius**2)))"
   ]
  },
  {
   "cell_type": "code",
   "execution_count": 6,
   "metadata": {},
   "outputs": [],
   "source": [
    "n_iterations = 1000\n",
    "init_lr = 0.75\n",
    "\n",
    "rows = 20\n",
    "cols = 10\n",
    "n_features = data.shape[1]\n",
    "n_elements = data.shape[0]\n",
    "\n",
    "init_radius = max(rows, cols) / 2\n",
    "time_constant = n_iterations / np.log(init_radius)"
   ]
  },
  {
   "cell_type": "code",
   "execution_count": 7,
   "metadata": {},
   "outputs": [],
   "source": [
    "net = np.random.random((rows, cols, n_features))"
   ]
  },
  {
   "cell_type": "code",
   "execution_count": 8,
   "metadata": {},
   "outputs": [],
   "source": [
    "idxs = np.arange(178)\n",
    "np.random.shuffle(idxs)"
   ]
  },
  {
   "cell_type": "code",
   "execution_count": 9,
   "metadata": {
    "scrolled": true
   },
   "outputs": [
    {
     "name": "stdout",
     "output_type": "stream",
     "text": [
      "10.0 0\n",
      "6.6374307040190885 178\n",
      "4.405548635065532 356\n",
      "2.9241523778433347 534\n",
      "1.9408858775927778 712\n",
      "1.2882495516931336 890\n"
     ]
    }
   ],
   "source": [
    "for i in range(0, n_iterations, len(idxs)):\n",
    "#     r = decay_param(init_radius, i, time_constant)\n",
    "#     l = decay_param(init_lr, i, time_constant)\n",
    "    \n",
    "#     r = decay_radius(init_radius, i, time_constant)\n",
    "#     l = decay_learning_rate(init_lr, i, n_iterations)\n",
    "    \n",
    "#     example = random.randint(0,177)\n",
    "#     t = (data[example])\n",
    "#     bmu, idx_x, idx_y = compete(t, net, n_features)    \n",
    "#     t = np.matrix(t).T        \n",
    "#     for x in range(net.shape[0]):\n",
    "#         for y in range(net.shape[1]):\n",
    "#             w = net[x, y, :].reshape(n_features, 1)\n",
    "#             aux = ((np.array([x, y]) - np.array([idx_x, idx_y])) ** 2)\n",
    "#             w_dist = np.sqrt(np.sum(aux))\n",
    "\n",
    "#             if w_dist <= r: #Update weghts from neit...\n",
    "#                 # calculate the degree of influence (based on the 2-D distance)\n",
    "#                 influence = calculate_influence(w_dist, r)                \n",
    "#                 new_w = w + (l * influence * (t - w))\n",
    "#                 net[x, y, :] = new_w.reshape(n_features)\n",
    "    \n",
    "    \n",
    "#     print(example)\n",
    "#     print(t)\n",
    "        # find its Best Matching Unit\n",
    "#     bmu, idx_x, idx_y = compete(t, net, n_features)\n",
    "        # decay the SOM parameters        \n",
    "#         r = decay_param(init_radius, i, time_constant)\n",
    "#         l = decay_param(init_lr, i, time_constant)        \n",
    "#         r = decay_radius(init_radius, i, time_constant)\n",
    "#         l = decay_learning_rate(init_learning_rate, i, n_iterations)\n",
    "        \n",
    "        # update weight vector to move closer to input\n",
    "        # and move its neighbours in 2-D vector space closer        \n",
    "    \n",
    "    # select a training example at random\n",
    "    for j, example in enumerate(idxs): \n",
    "        r = decay_radius(init_radius, i, time_constant)\n",
    "        l = decay_learning_rate(init_lr, i, n_iterations)\n",
    "        t = (data[example])\n",
    "        # find its Best Matching Unit\n",
    "        bmu, idx_x, idx_y = compete(t, net, n_features)\n",
    "        # decay the SOM parameters        \n",
    "#         r = decay_param(init_radius, i, time_constant)\n",
    "#         l = decay_param(init_lr, i, time_constant)        \n",
    "#         r = decay_radius(init_radius, i, time_constant)\n",
    "#         l = decay_learning_rate(init_learning_rate, i, n_iterations)\n",
    "        \n",
    "        # update weight vector to move closer to input\n",
    "        # and move its neighbours in 2-D vector space closer        \n",
    "        t = np.matrix(t).T        \n",
    "        for x in range(net.shape[0]):\n",
    "            for y in range(net.shape[1]):\n",
    "                w = net[x, y, :].reshape(n_features, 1)\n",
    "                aux = ((np.array([x, y]) - np.array([idx_x, idx_y])) ** 2)\n",
    "#                 w_dist = np.sqrt(np.sum((np.array([x, y]) - np.array([idx_x, idx_y])** 2 ) ))\n",
    "                w_dist = np.sqrt(np.sum(aux))\n",
    "#                 w_dist = np.sqrt(w_dist)\n",
    "\n",
    "                if w_dist <= r: #Update weghts from neit...\n",
    "                    # calculate the degree of influence (based on the 2-D distance)\n",
    "                    influence = calculate_influence(w_dist, r)\n",
    "                    # new w = old w + (learning rate * influence * delta)\n",
    "                    # where delta = input vector (t) - old w                    \n",
    "                    new_w = w + (l * influence * (t - w))\n",
    "                    net[x, y, :] = new_w.reshape(n_features)\n",
    "# #         i = i+1\n",
    "    print(r, i)\n",
    "    "
   ]
  },
  {
   "cell_type": "code",
   "execution_count": 10,
   "metadata": {},
   "outputs": [
    {
     "name": "stdout",
     "output_type": "stream",
     "text": [
      "(20, 10, 13)\n"
     ]
    },
    {
     "data": {
      "image/png": "[encoded data removed]",
      "text/plain": [
       "<Figure size 432x288 with 1 Axes>"
      ]
     },
     "metadata": {
      "needs_background": "light"
     },
     "output_type": "display_data"
    }
   ],
   "source": [
    "print(net.shape)\n",
    "fig = plt.figure()\n",
    "\n",
    "ax = fig.add_subplot(111, aspect='equal')\n",
    "ax.set_xlim((0, net.shape[0]+1))\n",
    "ax.set_ylim((0, net.shape[1]+1))\n",
    "ax.set_title('Self-Organising Map after %d iterations' % n_iterations)\n",
    "\n",
    "# plot\n",
    "for x in range(1, net.shape[0] + 1):\n",
    "    for y in range(1, net.shape[1] + 1):\n",
    "#         print('net: ', net[x-1,y-1,:])\n",
    "        element = net[x-1,y-1,:]\n",
    "#         print(element[0:4])\n",
    "        aux_r = np.average(element[0:4])\n",
    "        aux_g = np.average(element[4:8])\n",
    "        aux_b = np.average(element[8:])\n",
    "#         print(aux_r, aux_g, aux_b)\n",
    "#         aux = np.sum(element)\n",
    "#         print(aux_r)\n",
    "#         print(aux_g)\n",
    "#         print(aux_b)\n",
    "        \n",
    "        ax.add_patch(patches.Rectangle((x-0.5, y-0.5), 1, 1, facecolor = [aux_r,aux_g,aux_b], edgecolor='none'))\n",
    "#         ax.add_patch(patches.Rectangle((x-0.5, y-0.5), 1, 1, color = [(aux_r,aux_g,aux_b)]\n",
    "#                      facecolor=[aux_r, aux_g, aux_b]))\n",
    "plt.show()"
   ]
  },
  {
   "cell_type": "code",
   "execution_count": 11,
   "metadata": {},
   "outputs": [],
   "source": [
    "from sklearn.cluster import KMeans"
   ]
  },
  {
   "cell_type": "code",
   "execution_count": 12,
   "metadata": {},
   "outputs": [
    {
     "data": {
      "text/plain": [
       "array([[1.18643294e-03, 2.29768245e-04, 2.20962312e-04, 1.82512206e-03,\n",
       "        9.50596737e-03, 1.93715720e-04, 1.45349690e-04, 3.56381277e-05,\n",
       "        1.37949746e-04, 5.18469639e-04, 8.11122603e-05, 2.17055142e-04,\n",
       "        6.68318494e-02],\n",
       "       [1.26668831e-03, 1.72819854e-04, 2.22623678e-04, 1.56205564e-03,\n",
       "        9.68158220e-03, 2.63095386e-04, 2.76585955e-04, 2.61806851e-05,\n",
       "        1.75299307e-04, 5.23262283e-04, 9.89438568e-05, 2.85742362e-04,\n",
       "        1.09666029e-01],\n",
       "       [1.14852056e-03, 2.28866309e-04, 2.09995810e-04, 1.91072117e-03,\n",
       "        8.47377178e-03, 1.90008241e-04, 1.61350083e-04, 3.57994250e-05,\n",
       "        1.33223863e-04, 3.75016264e-04, 8.63601286e-05, 2.28547147e-04,\n",
       "        4.20470364e-02]])"
      ]
     },
     "execution_count": 12,
     "metadata": {},
     "output_type": "execute_result"
    }
   ],
   "source": [
    "# X     = np.array([[1, 2], [1, 4], [1, 0],[10, 2], [10, 4], [10, 0]])\n",
    "kmeans = KMeans(n_clusters=3, random_state=0).fit(data)\n",
    "kmeans.cluster_centers_"
   ]
  },
  {
   "cell_type": "code",
   "execution_count": 13,
   "metadata": {},
   "outputs": [
    {
     "name": "stdout",
     "output_type": "stream",
     "text": [
      "**************************************************\n",
      "106\n",
      "**************************************************\n",
      "94\n",
      "**************************************************\n",
      "0\n"
     ]
    }
   ],
   "source": [
    "list_1 = []\n",
    "list_2 = []\n",
    "list_3 = []\n",
    "\n",
    "clusters = kmeans.cluster_centers_\n",
    "# print(len(clusters))\n",
    "for x in range(net.shape[0]):\n",
    "    for y in range(net.shape[1]):\n",
    "        minimo  = np.inf\n",
    "        idx_min = 9\n",
    "        for idx, center in enumerate(clusters):            \n",
    "            aux = ((net[x, y, :] - center)** 2)\n",
    "#             print('net[x, y, :]: ', net[x, y, :])\n",
    "#             print('center: ', center)\n",
    "#             print(aux)\n",
    "            w_dist = np.sqrt(np.sum(aux))\n",
    "            if w_dist < minimo:\n",
    "                minimo  = w_dist\n",
    "                idx_min = idx\n",
    "        \n",
    "#         print('minimo: ', minimo)\n",
    "#         print('idx_min: ', idx_min)\n",
    "        if idx_min == 0:\n",
    "            list_1.append(net[x, y, :])\n",
    "        elif idx_min == 1:\n",
    "            list_2.append(net[x, y, :])\n",
    "        elif idx_min == 2:\n",
    "            list_2.append(net[x, y, :])\n",
    "\n",
    "print('*'*50)\n",
    "print(len(list_1))\n",
    "print('*'*50)\n",
    "print(len(list_2))\n",
    "print('*'*50)\n",
    "print(len(list_3))\n",
    "            "
   ]
  },
  {
   "cell_type": "code",
   "execution_count": null,
   "metadata": {},
   "outputs": [],
   "source": []
  },
  {
   "cell_type": "code",
   "execution_count": null,
   "metadata": {},
   "outputs": [],
   "source": []
  }
 ],
 "metadata": {
  "kernelspec": {
   "display_name": "Python 3",
   "language": "python",
   "name": "python3"
  },
  "language_info": {
   "codemirror_mode": {
    "name": "ipython",
    "version": 3
   },
   "file_extension": ".py",
   "mimetype": "text/x-python",
   "name": "python",
   "nbconvert_exporter": "python",
   "pygments_lexer": "ipython3",
   "version": "3.7.4"
  }
 },
 "nbformat": 4,
 "nbformat_minor": 2
}

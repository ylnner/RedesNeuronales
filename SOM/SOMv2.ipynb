{
 "cells": [
  {
   "cell_type": "code",
   "execution_count": 1,
   "metadata": {},
   "outputs": [],
   "source": [
    "from __future__ import division\n",
    "\n",
    "import numpy as np\n",
    "import pandas as pd\n",
    "from matplotlib import pyplot as plt\n",
    "from matplotlib import patches as patches\n",
    "import random\n",
    "\n",
    "%matplotlib inline"
   ]
  },
  {
   "cell_type": "code",
   "execution_count": 2,
   "metadata": {},
   "outputs": [
    {
     "name": "stdout",
     "output_type": "stream",
     "text": [
      "13\n"
     ]
    }
   ],
   "source": [
    "data = np.loadtxt(\"vinhos.txt\", delimiter=',')\n",
    "target = data[:,0]\n",
    "data = data[:,1:]\n",
    "\n",
    "print(data.shape[1])\n",
    "\n",
    "data = data / np.linalg.norm(data)"
   ]
  },
  {
   "cell_type": "code",
   "execution_count": 3,
   "metadata": {},
   "outputs": [
    {
     "data": {
      "text/plain": [
       "array([1.30573482e-03, 1.56908401e-04, 2.22975096e-04, 1.43144506e-03,\n",
       "       1.16534310e-02, 2.56926037e-04, 2.80783455e-04, 2.56926037e-05,\n",
       "       2.10128795e-04, 5.17522446e-04, 9.54296709e-05, 3.59696452e-04,\n",
       "       9.77236534e-02])"
      ]
     },
     "execution_count": 3,
     "metadata": {},
     "output_type": "execute_result"
    }
   ],
   "source": [
    "data[0]"
   ]
  },
  {
   "cell_type": "code",
   "execution_count": 4,
   "metadata": {},
   "outputs": [],
   "source": [
    "def compete(input, net, n_features):\n",
    "    bmu_idx = np.array([0, 0])\n",
    "    idx_x = -1\n",
    "    idx_y = -1\n",
    "    min_dist = np.iinfo(np.int).max\n",
    "    \n",
    "    # calculate the distance between each neuron and the input\n",
    "    for x in range(net.shape[0]):\n",
    "        for y in range(net.shape[1]):\n",
    "            w = net[x, y, :].reshape(n_features, 1)\n",
    "            sq_dist = np.sum((w - input) ** 2)\n",
    "            sq_dist = np.sqrt(sq_dist)\n",
    "            if sq_dist < min_dist:\n",
    "                min_dist = sq_dist # dist\n",
    "#                 bmu_idx = np.array([x, y]) # id\n",
    "                idx_x = x\n",
    "                idx_y = y\n",
    "    \n",
    "    bmu = net[bmu_idx[0], bmu_idx[1], :].reshape(n_features, 1)\n",
    "#     return (bmu, bmu_idx)\n",
    "    return bmu, idx_x, idx_y"
   ]
  },
  {
   "cell_type": "code",
   "execution_count": 5,
   "metadata": {},
   "outputs": [],
   "source": [
    "def decay_param(param_value, t, constant):\n",
    "    return param_value * np.exp(-t / constant)\n",
    "\n",
    "def decay_radius(initial_radius, i, time_constant):\n",
    "    return initial_radius * np.exp(-i / time_constant)\n",
    "\n",
    "def decay_learning_rate(initial_learning_rate, i, n_iterations):\n",
    "    return initial_learning_rate * np.exp(-i / n_iterations)\n",
    "\n",
    "def calculate_influence(distance, radius):\n",
    "    return np.exp(-distance / (2* (radius**2)))"
   ]
  },
  {
   "cell_type": "code",
   "execution_count": 6,
   "metadata": {},
   "outputs": [],
   "source": [
    "n_iterations = 300\n",
    "init_lr = 0.75\n",
    "\n",
    "rows = 20\n",
    "cols = 10\n",
    "n_features = data.shape[1]\n",
    "n_elements = data.shape[0]\n",
    "\n",
    "init_radius = max(rows, cols) / 2\n",
    "time_constant = n_iterations / np.log(init_radius)"
   ]
  },
  {
   "cell_type": "code",
   "execution_count": 7,
   "metadata": {},
   "outputs": [],
   "source": [
    "net = np.random.random((rows, cols, n_features))"
   ]
  },
  {
   "cell_type": "code",
   "execution_count": 8,
   "metadata": {},
   "outputs": [],
   "source": [
    "idxs = np.arange(178)\n",
    "np.random.shuffle(idxs)"
   ]
  },
  {
   "cell_type": "code",
   "execution_count": null,
   "metadata": {
    "scrolled": true
   },
   "outputs": [
    {
     "name": "stdout",
     "output_type": "stream",
     "text": [
      "10.0 0\n",
      "9.923540961321004 1\n",
      "9.847666521101582 2\n",
      "9.772372209558107 3\n",
      "9.697653591082494 4\n",
      "9.623506263980886 5\n",
      "9.54992586021436 6\n",
      "9.476908045141593 7\n",
      "9.404448517263518 8\n",
      "9.33254300796991 9\n",
      "9.261187281287935 10\n",
      "9.190377133632593 11\n",
      "9.120108393559098 12\n",
      "9.050376921517122 13\n",
      "8.981178609606946 14\n",
      "8.912509381337456 15\n",
      "8.844365191385997 16\n",
      "8.776742025360063 17\n",
      "8.709635899560805 18\n",
      "8.643042860748357 19\n",
      "8.576958985908941 20\n",
      "8.511380382023765 21\n",
      "8.446303185839685 22\n",
      "8.381723563641621 23\n",
      "8.317637711026709 24\n",
      "8.254041852680183 25\n",
      "8.190932242152973 26\n",
      "8.128305161640993 27\n",
      "8.066156921766135 28\n",
      "8.004483861358919 29\n",
      "7.943282347242815 30\n",
      "7.882548774020213 31\n",
      "7.822279563860026 32\n",
      "7.762471166286917 33\n",
      "7.703120057972146 34\n",
      "7.6442227425260025 35\n",
      "7.5857757502918375 36\n",
      "7.527775638141662 37\n",
      "7.470218989273317 38\n",
      "7.413102413009175 39\n",
      "7.356422544596413 40\n",
      "7.30017604500878 41\n",
      "7.244359600749901 42\n",
      "7.188969923658072 43\n",
      "7.134003750712562 44\n"
     ]
    }
   ],
   "source": [
    "for i in range(0, n_iterations):#, len(idxs)):\n",
    "#     r = decay_param(init_radius, i, time_constant)\n",
    "#     l = decay_param(init_lr, i, time_constant)\n",
    "    \n",
    "    r = decay_radius(init_radius, i, time_constant)\n",
    "    l = decay_learning_rate(init_lr, i, n_iterations)    \n",
    "#     example = random.randint(0,177)\n",
    "#     t = (data[example])\n",
    "#     bmu, idx_x, idx_y = compete(t, net, n_features)    \n",
    "#     t = np.matrix(t).T        \n",
    "#     for x in range(net.shape[0]):\n",
    "#         for y in range(net.shape[1]):\n",
    "#             w = net[x, y, :].reshape(n_features, 1)\n",
    "#             aux = ((np.array([x, y]) - np.array([idx_x, idx_y])) ** 2)\n",
    "#             w_dist = np.sqrt(np.sum(aux))\n",
    "\n",
    "#             if w_dist <= r: #Update weghts from neit...\n",
    "#                 # calculate the degree of influence (based on the 2-D distance)\n",
    "#                 influence = calculate_influence(w_dist, r)                \n",
    "#                 new_w = w + (l * influence * (t - w))\n",
    "#                 net[x, y, :] = new_w.reshape(n_features)\n",
    "             \n",
    "    # select a training example at random\n",
    "    for j, example in enumerate(idxs): \n",
    "#         r = decay_radius(init_radius, i, time_constant)\n",
    "#         l = decay_learning_rate(init_lr, i, n_iterations)\n",
    "        t = (data[example])\n",
    "        # find its Best Matching Unit\n",
    "        bmu, idx_x, idx_y = compete(t, net, n_features)        \n",
    "        # update weight vector to move closer to input\n",
    "        # and move its neighbours in 2-D vector space closer        \n",
    "        t = np.matrix(t).T        \n",
    "        for x in range(net.shape[0]):\n",
    "            for y in range(net.shape[1]):\n",
    "                w = net[x, y, :].reshape(n_features, 1)\n",
    "                aux = ((np.array([x, y]) - np.array([idx_x, idx_y])) ** 2)\n",
    "                w_dist = np.sqrt(np.sum(aux))\n",
    "    \n",
    "                if w_dist <= r**2: #Update weghts from neit...                    \n",
    "                    influence = calculate_influence(w_dist, r)                    \n",
    "                    new_w = w + (l * influence * (t - w))\n",
    "                    net[x, y, :] = new_w.reshape(n_features)\n",
    "\n",
    "    print(r, i)\n",
    "    "
   ]
  },
  {
   "cell_type": "code",
   "execution_count": null,
   "metadata": {},
   "outputs": [],
   "source": [
    "print(net.shape)\n",
    "fig = plt.figure()\n",
    "\n",
    "ax = fig.add_subplot(111, aspect='equal')\n",
    "ax.set_xlim((0, net.shape[0]+1))\n",
    "ax.set_ylim((0, net.shape[1]+1))\n",
    "ax.set_title('Self-Organising Map after %d iterations' % n_iterations)\n",
    "\n",
    "# plot\n",
    "for x in range(1, net.shape[0] + 1):\n",
    "    for y in range(1, net.shape[1] + 1):\n",
    "#         print('net: ', net[x-1,y-1,:])\n",
    "        element = net[x-1,y-1,:]\n",
    "#         print(element[0:4])\n",
    "        aux_r = np.average(element[0:4])\n",
    "        aux_g = np.average(element[4:8])\n",
    "        aux_b = np.average(element[8:])\n",
    "#         print(aux_r, aux_g, aux_b)\n",
    "#         aux = np.sum(element)\n",
    "#         print(aux_r)\n",
    "#         print(aux_g)\n",
    "#         print(aux_b)\n",
    "        \n",
    "        ax.add_patch(patches.Rectangle((x-0.5, y-0.5), 1, 1, facecolor = [aux_r,aux_g,aux_b], edgecolor='none'))\n",
    "#         ax.add_patch(patches.Rectangle((x-0.5, y-0.5), 1, 1, color = [(aux_r,aux_g,aux_b)]\n",
    "#                      facecolor=[aux_r, aux_g, aux_b]))\n",
    "plt.show()"
   ]
  },
  {
   "cell_type": "code",
   "execution_count": null,
   "metadata": {},
   "outputs": [],
   "source": [
    "center_1 = np.mean(data[0:59], axis = 0)\n",
    "center_2 = np.mean(data[59:130], axis = 0)\n",
    "center_3 = np.mean(data[130:178], axis = 0)\n",
    "print('center_1')\n",
    "print(data[0:59])\n",
    "\n",
    "print('center_2')\n",
    "# print(center_2)\n",
    "\n",
    "print('center_2')\n",
    "# print(center_2)"
   ]
  },
  {
   "cell_type": "code",
   "execution_count": null,
   "metadata": {},
   "outputs": [],
   "source": [
    "from sklearn.cluster import KMeans"
   ]
  },
  {
   "cell_type": "code",
   "execution_count": null,
   "metadata": {},
   "outputs": [],
   "source": [
    "# X     = np.array([[1, 2], [1, 4], [1, 0],[10, 2], [10, 4], [10, 0]])\n",
    "kmeans = KMeans(n_clusters=3, random_state=0).fit(data)\n",
    "kmeans.cluster_centers_"
   ]
  },
  {
   "cell_type": "code",
   "execution_count": null,
   "metadata": {},
   "outputs": [],
   "source": [
    "list_1 = []\n",
    "list_2 = []\n",
    "list_3 = []\n",
    "\n",
    "# clusters = kmeans.cluster_centers_\n",
    "clusters = np.array([center_1,center_2,center_3])\n",
    "# print(clusters)\n",
    "for x in range(net.shape[0]):\n",
    "    for y in range(net.shape[1]):\n",
    "        minimo  = np.inf\n",
    "        idx_min = 9\n",
    "        for idx, center in enumerate(clusters):            \n",
    "            aux = ((net[x, y, :] - center)** 2)\n",
    "            w_dist = np.sqrt(np.sum(aux))\n",
    "            if w_dist < minimo:\n",
    "                minimo  = w_dist\n",
    "                idx_min = idx\n",
    "        \n",
    "        if idx_min == 0:\n",
    "            list_1.append((x, y))\n",
    "        elif idx_min == 1:\n",
    "            list_2.append((x, y))\n",
    "        elif idx_min == 2:\n",
    "            list_3.append((x, y))\n",
    "\n",
    "global_list = []\n",
    "global_list.append(list_1)\n",
    "global_list.append(list_2)\n",
    "global_list.append(list_3)\n",
    "\n",
    "print(len(list_1))\n",
    "print(len(list_2))\n",
    "print(len(list_3))\n",
    "            "
   ]
  },
  {
   "cell_type": "code",
   "execution_count": null,
   "metadata": {},
   "outputs": [],
   "source": [
    "fig = plt.figure()\n",
    "\n",
    "ax = fig.add_subplot(111, aspect='equal')\n",
    "ax.set_xlim((0, net.shape[0]))\n",
    "ax.set_ylim((0, net.shape[1]))\n",
    "ax.set_title('Self-Organising Map after %d iterations' % n_iterations)\n",
    "\n",
    "for idx, lista in enumerate(global_list):\n",
    "    for item in lista:\n",
    "        x = item[0]\n",
    "        y = item[1]\n",
    "        \n",
    "        if idx == 0:\n",
    "            ax.add_patch(patches.Rectangle((x, y), 1, 1, facecolor = [1,0,0], edgecolor='none'))\n",
    "        elif idx == 1:\n",
    "            ax.add_patch(patches.Rectangle((x, y), 1, 1, facecolor = [0,0.8,0], edgecolor='none'))\n",
    "        elif idx == 2:\n",
    "            ax.add_patch(patches.Rectangle((x, y), 1, 1, facecolor = [0,0,1], edgecolor='none'))                                \n",
    "plt.show()"
   ]
  },
  {
   "cell_type": "code",
   "execution_count": null,
   "metadata": {},
   "outputs": [],
   "source": []
  }
 ],
 "metadata": {
  "kernelspec": {
   "display_name": "Python 3",
   "language": "python",
   "name": "python3"
  },
  "language_info": {
   "codemirror_mode": {
    "name": "ipython",
    "version": 3
   },
   "file_extension": ".py",
   "mimetype": "text/x-python",
   "name": "python",
   "nbconvert_exporter": "python",
   "pygments_lexer": "ipython3",
   "version": "3.7.4"
  }
 },
 "nbformat": 4,
 "nbformat_minor": 2
}

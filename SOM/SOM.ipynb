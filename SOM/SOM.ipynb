{
 "cells": [
  {
   "cell_type": "code",
   "execution_count": 2,
   "metadata": {},
   "outputs": [],
   "source": [
    "from __future__ import division\n",
    "\n",
    "import numpy as np\n",
    "import pandas as pd\n",
    "from matplotlib import pyplot as plt\n",
    "from matplotlib import patches as patches\n",
    "\n",
    "%matplotlib inline"
   ]
  },
  {
   "cell_type": "code",
   "execution_count": 19,
   "metadata": {},
   "outputs": [
    {
     "name": "stdout",
     "output_type": "stream",
     "text": [
      "13\n"
     ]
    }
   ],
   "source": [
    "data = np.loadtxt(\"vinhos.txt\", delimiter=',')\n",
    "target = data[:,0]\n",
    "data = data[:,1:]\n",
    "\n",
    "print(data.shape[1])"
   ]
  },
  {
   "cell_type": "code",
   "execution_count": 27,
   "metadata": {},
   "outputs": [],
   "source": [
    "def compete(input, net, n_features):\n",
    "    bmu_idx = np.array([0, 0])\n",
    "    idx_x = -1\n",
    "    idx_y = -1\n",
    "    min_dist = np.iinfo(np.int).max\n",
    "    \n",
    "    # calculate the distance between each neuron and the input\n",
    "    for x in range(net.shape[0]):\n",
    "        for y in range(net.shape[1]):\n",
    "            w = net[x, y, :].reshape(n_features, 1)\n",
    "            sq_dist = np.sum((w - input) ** 2)\n",
    "            sq_dist = np.sqrt(sq_dist)\n",
    "            if sq_dist < min_dist:\n",
    "                min_dist = sq_dist # dist\n",
    "#                 bmu_idx = np.array([x, y]) # id\n",
    "                idx_x = x\n",
    "                idx_y = y\n",
    "    \n",
    "    bmu = net[bmu_idx[0], bmu_idx[1], :].reshape(n_features, 1)\n",
    "#     return (bmu, bmu_idx)\n",
    "    return bmu, idx_x, idx_y"
   ]
  },
  {
   "cell_type": "code",
   "execution_count": 28,
   "metadata": {},
   "outputs": [],
   "source": [
    "number_iter = 1000\n",
    "lr = 0.01\n",
    "rows = 20\n",
    "cols = 10\n",
    "n_features = data.shape[1]\n",
    "n_elements = data.shape[0]"
   ]
  },
  {
   "cell_type": "code",
   "execution_count": 25,
   "metadata": {},
   "outputs": [],
   "source": [
    "net = np.random.random((rows, cols, n_features))"
   ]
  },
  {
   "cell_type": "code",
   "execution_count": 35,
   "metadata": {},
   "outputs": [
    {
     "name": "stdout",
     "output_type": "stream",
     "text": [
      "[[0.59388027]\n",
      " [0.10820758]\n",
      " [0.77469326]\n",
      " [0.28251265]\n",
      " [0.83732459]\n",
      " [0.40741503]\n",
      " [0.89176068]\n",
      " [0.52879065]\n",
      " [0.95371019]\n",
      " [0.00635098]\n",
      " [0.26399774]\n",
      " [0.62979669]\n",
      " [0.77858547]]\n",
      "19\n",
      "9\n"
     ]
    }
   ],
   "source": [
    "# select a training example at random\n",
    "t = data[np.random.randint(0, n_elements), :].reshape(np.array([n_features, 1]))\n",
    "\n",
    "# print(t)\n",
    "    \n",
    "# find its Best Matching Unit\n",
    "bmu, x, y = compete(t, net, n_features)\n",
    "\n",
    "print(bmu)\n",
    "print(x)\n",
    "print(y)"
   ]
  },
  {
   "cell_type": "code",
   "execution_count": null,
   "metadata": {},
   "outputs": [],
   "source": []
  }
 ],
 "metadata": {
  "kernelspec": {
   "display_name": "Python 3",
   "language": "python",
   "name": "python3"
  },
  "language_info": {
   "codemirror_mode": {
    "name": "ipython",
    "version": 3
   },
   "file_extension": ".py",
   "mimetype": "text/x-python",
   "name": "python",
   "nbconvert_exporter": "python",
   "pygments_lexer": "ipython3",
   "version": "3.7.3"
  }
 },
 "nbformat": 4,
 "nbformat_minor": 2
}

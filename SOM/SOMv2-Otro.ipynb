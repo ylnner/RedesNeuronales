{
 "cells": [
  {
   "cell_type": "code",
   "execution_count": 1,
   "metadata": {},
   "outputs": [],
   "source": [
    "from __future__ import division\n",
    "\n",
    "import numpy as np\n",
    "import pandas as pd\n",
    "from matplotlib import pyplot as plt\n",
    "from matplotlib import patches as patches\n",
    "import random\n",
    "\n",
    "%matplotlib inline"
   ]
  },
  {
   "cell_type": "code",
   "execution_count": 2,
   "metadata": {},
   "outputs": [],
   "source": [
    "data = np.loadtxt(\"synthetic_control.txt\")\n",
    "# target = data[:,0]\n",
    "# data = data[:,1:]\n",
    "\n",
    "# print(data[0:10])\n",
    "\n",
    "data = data / np.linalg.norm(data)"
   ]
  },
  {
   "cell_type": "code",
   "execution_count": 3,
   "metadata": {},
   "outputs": [
    {
     "data": {
      "text/plain": [
       "array([0.00476076, 0.00570063, 0.0051837 , 0.00517465, 0.00478383,\n",
       "       0.00558424, 0.00420095, 0.00459596, 0.00583043, 0.00448529,\n",
       "       0.00543737, 0.00483286, 0.00595902, 0.00534893, 0.00571083,\n",
       "       0.00543737, 0.00564341, 0.0043873 , 0.00457568, 0.0043618 ,\n",
       "       0.00426339, 0.00484161, 0.00508354, 0.00488055, 0.00546343,\n",
       "       0.00414192, 0.00478317, 0.00402674, 0.00432061, 0.00577989,\n",
       "       0.00414015, 0.0044051 , 0.00589762, 0.00470354, 0.00482168,\n",
       "       0.00465774, 0.00433259, 0.00551123, 0.005124  , 0.00447345,\n",
       "       0.00587782, 0.00433963, 0.00479635, 0.00529378, 0.005137  ,\n",
       "       0.00566624, 0.00464346, 0.00478706, 0.00587168, 0.00492051,\n",
       "       0.00519944, 0.00406179, 0.00558151, 0.00414301, 0.00577814,\n",
       "       0.00578742, 0.00537127, 0.00552077, 0.00421225, 0.00427949])"
      ]
     },
     "execution_count": 3,
     "metadata": {},
     "output_type": "execute_result"
    }
   ],
   "source": [
    "data[0]"
   ]
  },
  {
   "cell_type": "code",
   "execution_count": 4,
   "metadata": {},
   "outputs": [],
   "source": [
    "def compete(input, net, n_features):\n",
    "    bmu_idx = np.array([0, 0])\n",
    "    idx_x = -1\n",
    "    idx_y = -1\n",
    "    min_dist = np.iinfo(np.int).max\n",
    "    \n",
    "    # calculate the distance between each neuron and the input\n",
    "    for x in range(net.shape[0]):\n",
    "        for y in range(net.shape[1]):\n",
    "            w = net[x, y, :].reshape(n_features, 1)\n",
    "            sq_dist = np.sum((w - input) ** 2)\n",
    "            sq_dist = np.sqrt(sq_dist)\n",
    "            if sq_dist < min_dist:\n",
    "                min_dist = sq_dist # dist\n",
    "#                 bmu_idx = np.array([x, y]) # id\n",
    "                idx_x = x\n",
    "                idx_y = y\n",
    "    \n",
    "    bmu = net[bmu_idx[0], bmu_idx[1], :].reshape(n_features, 1)\n",
    "#     return (bmu, bmu_idx)\n",
    "    return bmu, idx_x, idx_y"
   ]
  },
  {
   "cell_type": "code",
   "execution_count": 5,
   "metadata": {},
   "outputs": [],
   "source": [
    "def decay_param(param_value, t, constant):\n",
    "    return param_value * np.exp(-t / constant)\n",
    "\n",
    "def decay_radius(initial_radius, i, time_constant):\n",
    "    return initial_radius * np.exp(-i / time_constant)\n",
    "\n",
    "def decay_learning_rate(initial_learning_rate, i, n_iterations):\n",
    "    return initial_learning_rate * np.exp(-i / n_iterations)\n",
    "\n",
    "def calculate_influence(distance, radius):\n",
    "    return np.exp(-distance / (2* (radius**2)))"
   ]
  },
  {
   "cell_type": "code",
   "execution_count": 6,
   "metadata": {},
   "outputs": [],
   "source": [
    "n_iterations = 300\n",
    "init_lr = 0.8\n",
    "\n",
    "rows = 10\n",
    "cols = 60\n",
    "n_features = data.shape[1]\n",
    "n_elements = data.shape[0]\n",
    "\n",
    "init_radius = max(rows, cols) / 2\n",
    "time_constant = n_iterations / np.log(init_radius)"
   ]
  },
  {
   "cell_type": "code",
   "execution_count": 7,
   "metadata": {},
   "outputs": [],
   "source": [
    "net = np.random.random((rows, cols, n_features))"
   ]
  },
  {
   "cell_type": "code",
   "execution_count": 8,
   "metadata": {},
   "outputs": [],
   "source": [
    "idxs = np.arange(600)\n",
    "np.random.shuffle(idxs)"
   ]
  },
  {
   "cell_type": "code",
   "execution_count": null,
   "metadata": {
    "scrolled": true
   },
   "outputs": [
    {
     "name": "stdout",
     "output_type": "stream",
     "text": [
      "30.0 0\n",
      "29.661801020165676 1\n"
     ]
    }
   ],
   "source": [
    "for i in range(0, n_iterations):#, len(idxs)):\n",
    "#     r = decay_param(init_radius, i, time_constant)\n",
    "#     l = decay_param(init_lr, i, time_constant)\n",
    "    \n",
    "    r = decay_radius(init_radius, i, time_constant)\n",
    "    l = decay_learning_rate(init_lr, i, n_iterations)    \n",
    "#     example = random.randint(0,177)\n",
    "#     t = (data[example])\n",
    "#     bmu, idx_x, idx_y = compete(t, net, n_features)    \n",
    "#     t = np.matrix(t).T        \n",
    "#     for x in range(net.shape[0]):\n",
    "#         for y in range(net.shape[1]):\n",
    "#             w = net[x, y, :].reshape(n_features, 1)\n",
    "#             aux = ((np.array([x, y]) - np.array([idx_x, idx_y])) ** 2)\n",
    "#             w_dist = np.sqrt(np.sum(aux))\n",
    "\n",
    "#             if w_dist <= r: #Update weghts from neit...\n",
    "#                 # calculate the degree of influence (based on the 2-D distance)\n",
    "#                 influence = calculate_influence(w_dist, r)                \n",
    "#                 new_w = w + (l * influence * (t - w))\n",
    "#                 net[x, y, :] = new_w.reshape(n_features)\n",
    "             \n",
    "    # select a training example at random\n",
    "    for j, example in enumerate(idxs): \n",
    "#         r = decay_radius(init_radius, i, time_constant)\n",
    "#         l = decay_learning_rate(init_lr, i, n_iterations)\n",
    "        t = (data[example])\n",
    "        # find its Best Matching Unit\n",
    "        bmu, idx_x, idx_y = compete(t, net, n_features)        \n",
    "        # update weight vector to move closer to input\n",
    "        # and move its neighbours in 2-D vector space closer        \n",
    "        t = np.matrix(t).T        \n",
    "        for x in range(net.shape[0]):\n",
    "            for y in range(net.shape[1]):\n",
    "                w = net[x, y, :].reshape(n_features, 1)\n",
    "                aux = ((np.array([x, y]) - np.array([idx_x, idx_y])) ** 2)\n",
    "                w_dist = np.sqrt(np.sum(aux))\n",
    "    \n",
    "                if w_dist <= r: #Update weghts from neit...                    \n",
    "                    influence = calculate_influence(w_dist, r)                    \n",
    "                    new_w = w + (l * influence * (t - w))\n",
    "                    net[x, y, :] = new_w.reshape(n_features)\n",
    "\n",
    "    print(r, i)\n",
    "    "
   ]
  },
  {
   "cell_type": "code",
   "execution_count": null,
   "metadata": {},
   "outputs": [],
   "source": [
    "center_1 = np.mean(data[0:100], axis = 0)\n",
    "center_2 = np.mean(data[100:200], axis = 0)\n",
    "center_3 = np.mean(data[200:300], axis = 0)\n",
    "center_4 = np.mean(data[300:400], axis = 0)\n",
    "center_5 = np.mean(data[400:500], axis = 0)\n",
    "center_6 = np.mean(data[500:600], axis = 0)\n"
   ]
  },
  {
   "cell_type": "code",
   "execution_count": null,
   "metadata": {},
   "outputs": [],
   "source": [
    "print(net.shape)\n",
    "fig = plt.figure()\n",
    "\n",
    "ax = fig.add_subplot(111, aspect='equal')\n",
    "ax.set_xlim((0, net.shape[0]+1))\n",
    "ax.set_ylim((0, net.shape[1]+1))\n",
    "ax.set_title('Self-Organising Map after %d iterations' % n_iterations)\n",
    "\n",
    "# plot\n",
    "for x in range(1, net.shape[0] + 1):\n",
    "    for y in range(1, net.shape[1] + 1):\n",
    "#         print('net: ', net[x-1,y-1,:])\n",
    "        element = net[x-1,y-1,:]\n",
    "#         print(element[0:4])\n",
    "        aux_r = np.average(element[0:4])\n",
    "        aux_g = np.average(element[4:8])\n",
    "        aux_b = np.average(element[8:])\n",
    "#         print(aux_r, aux_g, aux_b)\n",
    "#         aux = np.sum(element)\n",
    "#         print(aux_r)\n",
    "#         print(aux_g)\n",
    "#         print(aux_b)\n",
    "        \n",
    "        ax.add_patch(patches.Rectangle((x-0.5, y-0.5), 1, 1, facecolor = [aux_r,aux_g,aux_b], edgecolor='none'))\n",
    "#         ax.add_patch(patches.Rectangle((x-0.5, y-0.5), 1, 1, color = [(aux_r,aux_g,aux_b)]\n",
    "#                      facecolor=[aux_r, aux_g, aux_b]))\n",
    "plt.show()"
   ]
  },
  {
   "cell_type": "code",
   "execution_count": null,
   "metadata": {},
   "outputs": [],
   "source": [
    "from sklearn.cluster import KMeans"
   ]
  },
  {
   "cell_type": "code",
   "execution_count": null,
   "metadata": {},
   "outputs": [],
   "source": [
    "# X     = np.array([[1, 2], [1, 4], [1, 0],[10, 2], [10, 4], [10, 0]])\n",
    "kmeans = KMeans(n_clusters=3, random_state=0).fit(data)\n",
    "kmeans.cluster_centers_"
   ]
  },
  {
   "cell_type": "code",
   "execution_count": null,
   "metadata": {},
   "outputs": [],
   "source": [
    "list_1 = []\n",
    "list_2 = []\n",
    "list_3 = []\n",
    "list_4 = []\n",
    "list_5 = []\n",
    "list_6 = []\n",
    "\n",
    "# clusters = kmeans.cluster_centers_\n",
    "\n",
    "clusters = np.array([center_1,center_2,center_3,center_4,center_5,center_6])\n",
    "for x in range(net.shape[0]):\n",
    "    for y in range(net.shape[1]):\n",
    "        minimo  = np.inf\n",
    "        idx_min = 9\n",
    "        for idx, center in enumerate(clusters):            \n",
    "            aux = ((net[x, y, :] - center)** 2)\n",
    "            w_dist = np.sqrt(np.sum(aux))\n",
    "            if w_dist < minimo:\n",
    "                minimo  = w_dist\n",
    "                idx_min = idx\n",
    "        \n",
    "        if idx_min == 0:\n",
    "            list_1.append((x, y))\n",
    "        elif idx_min == 1:\n",
    "            list_2.append((x, y))\n",
    "        elif idx_min == 2:\n",
    "            list_3.append((x, y))\n",
    "        elif idx_min == 3:\n",
    "            list_3.append((x, y))\n",
    "        elif idx_min == 4:\n",
    "            list_3.append((x, y))\n",
    "        elif idx_min == 5:\n",
    "            list_3.append((x, y))\n",
    "        elif idx_min == 6:\n",
    "            list_3.append((x, y))\n",
    "\n",
    "global_list = []\n",
    "global_list.append(list_1)\n",
    "global_list.append(list_2)\n",
    "global_list.append(list_3)\n",
    "global_list.append(list_4)\n",
    "global_list.append(list_5)\n",
    "global_list.append(list_6)\n",
    "            "
   ]
  },
  {
   "cell_type": "code",
   "execution_count": null,
   "metadata": {},
   "outputs": [],
   "source": [
    "fig = plt.figure()\n",
    "\n",
    "ax = fig.add_subplot(111, aspect='equal')\n",
    "ax.set_xlim((0, net.shape[0]))\n",
    "ax.set_ylim((0, net.shape[1]))\n",
    "ax.set_title('Self-Organising Map after %d iterations' % n_iterations)\n",
    "\n",
    "for idx, lista in enumerate(global_list):\n",
    "    for item in lista:\n",
    "        x = item[0]\n",
    "        y = item[1]\n",
    "        \n",
    "        if idx == 0:\n",
    "            ax.add_patch(patches.Rectangle((x, y), 1, 1, facecolor = [1,0,0], edgecolor='none'))\n",
    "        elif idx == 1:\n",
    "            ax.add_patch(patches.Rectangle((x, y), 1, 1, facecolor = [0,0.8,0], edgecolor='none'))\n",
    "        elif idx == 2:\n",
    "            ax.add_patch(patches.Rectangle((x, y), 1, 1, facecolor = [0,0,1], edgecolor='none'))                                \n",
    "plt.show()"
   ]
  },
  {
   "cell_type": "code",
   "execution_count": null,
   "metadata": {},
   "outputs": [],
   "source": []
  }
 ],
 "metadata": {
  "kernelspec": {
   "display_name": "Python 3",
   "language": "python",
   "name": "python3"
  },
  "language_info": {
   "codemirror_mode": {
    "name": "ipython",
    "version": 3
   },
   "file_extension": ".py",
   "mimetype": "text/x-python",
   "name": "python",
   "nbconvert_exporter": "python",
   "pygments_lexer": "ipython3",
   "version": "3.7.4"
  }
 },
 "nbformat": 4,
 "nbformat_minor": 2
}
